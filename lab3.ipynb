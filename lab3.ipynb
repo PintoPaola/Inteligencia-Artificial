{
  "nbformat": 4,
  "nbformat_minor": 0,
  "metadata": {
    "colab": {
      "provenance": [],
      "authorship_tag": "ABX9TyORynBYY8sO8P/h0MaND1n+",
      "include_colab_link": true
    },
    "kernelspec": {
      "name": "python3",
      "display_name": "Python 3"
    },
    "language_info": {
      "name": "python"
    }
  },
  "cells": [
    {
      "cell_type": "markdown",
      "metadata": {
        "id": "view-in-github",
        "colab_type": "text"
      },
      "source": [
        "<a href=\"https://colab.research.google.com/github/PintoPaola/Inteligencia-Artificial/blob/main/lab3.ipynb\" target=\"_parent\"><img src=\"https://colab.research.google.com/assets/colab-badge.svg\" alt=\"Open In Colab\"/></a>"
      ]
    },
    {
      "cell_type": "code",
      "execution_count": 258,
      "metadata": {
        "colab": {
          "base_uri": "https://localhost:8080/"
        },
        "id": "9Woct0brTegM",
        "outputId": "23bfc0cf-b5ff-4fe6-cfdb-3b3f5d2afbc8"
      },
      "outputs": [
        {
          "output_type": "stream",
          "name": "stdout",
          "text": [
            "Drive already mounted at /content/drive; to attempt to forcibly remount, call drive.mount(\"/content/drive\", force_remount=True).\n"
          ]
        }
      ],
      "source": [
        "from google.colab import drive\n",
        "drive.mount('/content/drive')"
      ]
    },
    {
      "cell_type": "code",
      "execution_count": 259,
      "metadata": {
        "id": "20Q29kX8SxgJ"
      },
      "outputs": [],
      "source": [
        "# utilizado para la manipulación de directorios y rutas\n",
        "import os\n",
        "\n",
        "# Cálculo científico y vectorial para python\n",
        "import numpy as np\n",
        "\n",
        "# Libreria para graficos\n",
        "from matplotlib import pyplot\n",
        "\n",
        "# Modulo de optimizacion en scipy\n",
        "from scipy import optimize\n",
        "import pandas as pd\n",
        "\n",
        "from scipy import optimize\n",
        "# modulo para cargar archivos en formato MATLAB\n",
        "# from scipy.io import loadmat\n",
        "\n",
        "# le dice a matplotlib que incruste gráficos en el cuaderno\n",
        "%matplotlib inline"
      ]
    },
    {
      "cell_type": "markdown",
      "source": [
        "Este código carga un conjunto de datos, lo prepara para su uso en el entrenamiento y la evaluación de modelos de aprendizaje automático y proporciona información básica sobre los datos, como el número de ejemplos de entrenamiento y las formas de las matrices de características y etiquetas."
      ],
      "metadata": {
        "id": "2evmbBij4Vma"
      }
    },
    {
      "cell_type": "code",
      "execution_count": 260,
      "metadata": {
        "id": "hhRjL2ptSxgK",
        "colab": {
          "base_uri": "https://localhost:8080/"
        },
        "outputId": "f7de6e4a-4861-4dc7-89df-543dddb62359"
      },
      "outputs": [
        {
          "output_type": "stream",
          "name": "stdout",
          "text": [
            "Número de ejemplos de entrenamiento: 16800\n",
            "Forma de X: (21001, 11)\n",
            "Forma de y: (21001,)\n"
          ]
        }
      ],
      "source": [
        "# Tamaño de la capa de entrada\n",
        "input_layer_size = 11\n",
        "\n",
        "# Número de etiquetas\n",
        "num_labels = 7\n",
        "\n",
        "# Cargar el conjunto de datos desde el archivo CSV usando Pandas\n",
        "data = pd.read_csv('/content/drive/MyDrive/IA/DATASET/covertype1.csv', header=None)\n",
        "\n",
        "# Separar las características (X) y las etiquetas (y)\n",
        "X = data.iloc[:, :-1]  # Todas las columnas excepto la última\n",
        "y = data.iloc[:, -1]   # Última columna\n",
        "\n",
        "# Ajustar las etiquetas para que vayan de 0 a 6 en lugar de 1 a 7\n",
        "y[y == 7] = 0\n",
        "\n",
        "# Dividir los datos en conjunto de entrenamiento y conjunto de prueba (80% - 20%)\n",
        "X_train, X_test, y_train, y_test = train_test_split(X, y, test_size=0.2, random_state=42)\n",
        "\n",
        "# Número de ejemplos de entrenamiento\n",
        "m = y_train.size\n",
        "print(\"Número de ejemplos de entrenamiento:\", m)\n",
        "print(\"Forma de X:\", X.shape)\n",
        "print(\"Forma de y:\", y.shape)\n"
      ]
    },
    {
      "cell_type": "code",
      "source": [
        "print(\"Primera fila de X:\")\n",
        "print(X_train_norm.iloc[0, :])\n",
        "\n",
        "print(\"Valores de y:\")\n",
        "print(y)\n"
      ],
      "metadata": {
        "colab": {
          "base_uri": "https://localhost:8080/"
        },
        "id": "ycSv71BoIem9",
        "outputId": "640d5c10-f8c7-484f-e9a3-2d624518ead3"
      },
      "execution_count": 261,
      "outputs": [
        {
          "output_type": "stream",
          "name": "stdout",
          "text": [
            "Primera fila de X:\n",
            "0    -0.077216\n",
            "1     1.830114\n",
            "2     1.725517\n",
            "3    -1.065149\n",
            "4    -0.779041\n",
            "5     0.774472\n",
            "6    -1.985480\n",
            "7    -2.171749\n",
            "8     0.222809\n",
            "9     1.580234\n",
            "10    1.089594\n",
            "Name: 19400, dtype: float64\n",
            "Valores de y:\n",
            "0        5\n",
            "1        5\n",
            "2        2\n",
            "3        2\n",
            "4        5\n",
            "        ..\n",
            "20996    1\n",
            "20997    1\n",
            "20998    1\n",
            "20999    1\n",
            "21000    1\n",
            "Name: 11, Length: 21001, dtype: int64\n"
          ]
        }
      ]
    },
    {
      "cell_type": "code",
      "source": [
        "# Normalizar las características (opcional, dependiendo de tu aplicación)\n",
        "def featureNormalize(X):\n",
        "    X_norm = X.copy()\n",
        "    mu = np.mean(X, axis=0)\n",
        "    sigma = np.std(X, axis=0)\n",
        "    X_norm = (X - mu) / sigma\n",
        "    return X_norm, mu, sigma"
      ],
      "metadata": {
        "id": "Fgs6AHSbEss7"
      },
      "execution_count": 262,
      "outputs": []
    },
    {
      "cell_type": "code",
      "source": [
        "# Llamar a la función de normalización con los datos de entrenamiento\n",
        "X_train_norm, mu, sigma = featureNormalize(X_train)"
      ],
      "metadata": {
        "id": "HfVtPuVLEzNz"
      },
      "execution_count": 263,
      "outputs": []
    },
    {
      "cell_type": "code",
      "source": [
        "# Configurar la matriz adecuadamente, y agregar una columna de unos que corresponde al termino de intercepción.\n",
        "m, n = X.shape\n",
        "X = X_train_norm"
      ],
      "metadata": {
        "id": "cUiW08Eckiai"
      },
      "execution_count": 264,
      "outputs": []
    },
    {
      "cell_type": "markdown",
      "source": [
        "Sirve para mostrar algunas muestras aleatorias del conjunto de entrenamiento normalizado. Esto puede ser útil para visualizar cómo se ven algunas muestras después de la normalización o para verificar la distribución de las características."
      ],
      "metadata": {
        "id": "ZotlyE534u5P"
      }
    },
    {
      "cell_type": "code",
      "source": [
        "# Selecciona aleatoriamente 100 puntos de datos para mostrar\n",
        "rand_indices = np.random.choice(len(X_train_norm), 100, replace=False)\n",
        "sel = X_train_norm.iloc[rand_indices, :]\n",
        "\n",
        "# Imprimir algunas muestras seleccionadas aleatoriamente\n",
        "print(\"Muestras seleccionadas aleatoriamente:\")\n",
        "print(sel)\n"
      ],
      "metadata": {
        "id": "r9e6MRrW1G22",
        "colab": {
          "base_uri": "https://localhost:8080/"
        },
        "outputId": "b135044e-3355-44b1-e35b-7d1c571e6d45"
      },
      "execution_count": 265,
      "outputs": [
        {
          "output_type": "stream",
          "name": "stdout",
          "text": [
            "Muestras seleccionadas aleatoriamente:\n",
            "             0         1         2         3         4         5         6   \\\n",
            "12682 -1.223964  1.794378  1.249991  0.686866  2.602690 -0.683386 -1.708742   \n",
            "18868  0.514205 -0.108610 -0.533234 -0.908252 -0.779041  2.263695  0.816496   \n",
            "7574  -0.185505 -1.064571 -1.008760 -0.400952 -0.635138  0.040525  0.159242   \n",
            "12251 -1.926451 -0.465979 -0.533234 -0.908252 -0.725077 -0.741098  0.851088   \n",
            "2146   1.486025 -0.608926  0.180056 -0.845493 -0.671114  0.103883  0.954865   \n",
            "...         ...       ...       ...       ...       ...       ...       ...   \n",
            "366    0.914040 -0.787611  0.417819 -0.061009 -0.940933  0.756280  0.643534   \n",
            "2660  -0.191058 -0.135413  1.249991 -0.500320 -0.113488 -1.097407  1.266195   \n",
            "19280 -0.585339 -0.778676 -1.127642  0.064509 -0.239403 -0.908588  0.401388   \n",
            "9881   0.317065 -0.930558 -0.414352 -0.751355 -0.473246 -1.081725  0.332203   \n",
            "14347  1.694273  0.731206 -0.770997  0.603188 -0.023548  1.034804 -0.290458   \n",
            "\n",
            "             7         8         9         10  \n",
            "12682 -1.564456  0.439092 -0.652765 -0.917773  \n",
            "18868  0.771287 -0.161693  0.454333  1.089594  \n",
            "7574   0.304139  0.174747 -0.366471 -0.917773  \n",
            "12251  0.210709 -0.474100 -1.154837 -0.917773  \n",
            "2146  -0.583444 -1.098916  0.060855  1.089594  \n",
            "...         ...       ...       ...       ...  \n",
            "366   -1.050592 -1.098916  1.279837  1.089594  \n",
            "2660  -0.069580 -1.363261 -1.028849  1.089594  \n",
            "19280  0.397568  0.054590  1.283128  1.089594  \n",
            "9881  -0.256440 -0.281849 -0.376813 -0.917773  \n",
            "14347  1.378580  1.063908 -0.262107 -0.917773  \n",
            "\n",
            "[100 rows x 11 columns]\n"
          ]
        }
      ]
    },
    {
      "cell_type": "markdown",
      "source": [
        "mapea el resultado de la regresión"
      ],
      "metadata": {
        "id": "05YShSrG5FrH"
      }
    },
    {
      "cell_type": "code",
      "execution_count": 266,
      "metadata": {
        "id": "0sB9Kyi8SxgN"
      },
      "outputs": [],
      "source": [
        "def sigmoid(z):\n",
        "    return 1.0 / (1.0 + np.exp(-z))"
      ]
    },
    {
      "cell_type": "markdown",
      "source": [
        "calcula el costo y el gradiente de la regresión logística regularizada"
      ],
      "metadata": {
        "id": "82MZHAbu5ZCe"
      }
    },
    {
      "cell_type": "code",
      "source": [
        "def lrCostFunction(theta, X, y, lambda_):\n",
        "\n",
        "    m = y.size\n",
        "\n",
        "    # convierte las etiquetas a valores enteros si son booleanos\n",
        "    if y.dtype == bool:\n",
        "        y = y.astype(int)\n",
        "\n",
        "    J = 0\n",
        "    grad = np.zeros(theta.shape)\n",
        "\n",
        "    h = sigmoid(X.dot(theta.T))\n",
        "\n",
        "    temp = theta\n",
        "    temp[0] = 0\n",
        "\n",
        "    J = (1 / m) * np.sum(-y.dot(np.log(h)) - (1 - y).dot(np.log(1 - h))) + (lambda_ / (2 * m)) * np.sum(np.square(temp))\n",
        "\n",
        "    grad = (1 / m) * (h - y).dot(X)\n",
        "    grad = grad + (lambda_ / m) * temp\n",
        "\n",
        "    return J, grad\n"
      ],
      "metadata": {
        "id": "Ed4uZ-WTFWtL"
      },
      "execution_count": 267,
      "outputs": []
    },
    {
      "cell_type": "markdown",
      "source": [
        " oneVsAll se utiliza para entrenar clasificadores de regresión logística uno contra todos."
      ],
      "metadata": {
        "id": "9Mpn1jD75uxI"
      }
    },
    {
      "cell_type": "code",
      "source": [
        "# Entrenar clasificadores de regresión logística uno contra todos\n",
        "def oneVsAll(X, y, num_labels, lambda_):\n",
        "    m, n = X.shape\n",
        "    all_theta = np.zeros((num_labels, n + 1))\n",
        "    X = np.concatenate([np.ones((m, 1)), X], axis=1)\n",
        "    for c in range(num_labels):\n",
        "        initial_theta = np.zeros(n + 1)\n",
        "        options = {'maxiter': 50}\n",
        "        res = optimize.minimize(lrCostFunction,\n",
        "                                initial_theta,\n",
        "                                 (X, (y == c),\n",
        "                                  lambda_),\n",
        "                                jac=True,\n",
        "                                method='CG',\n",
        "                                options=options)\n",
        "        all_theta[c] = res.x\n",
        "    return all_theta\n"
      ],
      "metadata": {
        "id": "BnbYHgk6Feli"
      },
      "execution_count": 268,
      "outputs": []
    },
    {
      "cell_type": "code",
      "source": [
        "# Entrenar los clasificadores uno contra todos\n",
        "lambda_ = 0.1\n",
        "all_theta = oneVsAll(X_train_norm, y_train, num_labels, lambda_)"
      ],
      "metadata": {
        "id": "g9RrTdITO8Gr"
      },
      "execution_count": 269,
      "outputs": []
    },
    {
      "cell_type": "code",
      "source": [
        "print(all_theta)"
      ],
      "metadata": {
        "colab": {
          "base_uri": "https://localhost:8080/"
        },
        "id": "Tkb7nD-3SE7T",
        "outputId": "b0f99772-e7d8-4e7c-f5a9-1d542bc11afb"
      },
      "execution_count": 270,
      "outputs": [
        {
          "output_type": "stream",
          "name": "stdout",
          "text": [
            "[[-10.01006814   7.13072022   0.05757404  -0.01930118  -0.36106877\n",
            "   -0.03743146   0.10414494   0.17215406  -0.04374517  -0.51536345\n",
            "    0.337743    -0.33922315]\n",
            " [ -2.43272241   1.35968695  -0.08383314  -0.04069454  -0.10380459\n",
            "   -0.06864508  -0.24931545   1.53838125  -1.58136603   2.54573723\n",
            "    0.24079413   0.45272377]\n",
            " [ -1.13977942  -0.29258803  -0.10936132   0.21852482   0.45179699\n",
            "   -0.44596553   0.42709738   0.08719684   0.33947406   0.12578595\n",
            "    0.82276637   0.74026603]\n",
            " [ -5.05412411  -0.78383949  -0.17952748   0.39670583   0.32426904\n",
            "    0.09250392  -0.62726794  -0.08210772   0.32357719   0.13209386\n",
            "   -0.49169133  -2.44664092]\n",
            " [ -8.57221812  -4.71187044   0.11537991  -0.48433758  -0.89496587\n",
            "    0.57727164   1.27169829   0.23607552   1.30872452  -1.39235404\n",
            "    1.67905301  -4.51687929]\n",
            " [ -2.42302284   0.38538486   0.08965043   0.24293973  -0.22886866\n",
            "    0.15087666  -1.00995234   0.98658441  -0.12610554   0.63470128\n",
            "   -0.52366182   0.55667281]\n",
            " [ -5.49115107  -0.73971194  -0.0602955    0.26838969  -0.11512918\n",
            "   -0.07193957  -0.22595235   2.67518662  -2.60077735   3.99004744\n",
            "    0.81637188  -4.22508799]]\n"
          ]
        }
      ]
    },
    {
      "cell_type": "markdown",
      "source": [
        "\n",
        "Esta función predictOneVsAll se utiliza para predecir las etiquetas utilizando los clasificadores entrenados mediante el enfoque uno contra todos en un problema de clasificación multiclase utilizando regresión logístic"
      ],
      "metadata": {
        "id": "ln0VDSCe6NMm"
      }
    },
    {
      "cell_type": "code",
      "source": [
        "def predictOneVsAll(all_theta, X):\n",
        "\n",
        "    m = X.shape[0]\n",
        "    num_labels = all_theta.shape[0]\n",
        "\n",
        "    p = np.zeros(m)\n",
        "\n",
        "    # Agregar unos a la matriz de datos X\n",
        "    X = np.concatenate([np.ones((m, 1)), X], axis=1)\n",
        "    p = np.argmax(sigmoid(X.dot(all_theta.T)), axis=1)\n",
        "\n",
        "    return p\n"
      ],
      "metadata": {
        "id": "T82ntcZXPHny"
      },
      "execution_count": 271,
      "outputs": []
    },
    {
      "cell_type": "code",
      "source": [
        "print(X.shape)\n",
        "\n",
        "# Predecir etiquetas para el conjunto de entrenamiento\n",
        "pred_train = predictOneVsAll(all_theta, X_train_norm)\n",
        "accuracy_train = np.mean(pred_train == y_train) * 100\n",
        "print(f\"Precisión del conjunto de entrenamiento: {accuracy_train:.2f}%\")\n",
        "\n",
        "# Predecir etiquetas para el conjunto de prueba\n",
        "X_test_norm = (X_test - mu) / sigma\n",
        "pred_test = predictOneVsAll(all_theta, X_test_norm)\n",
        "accuracy_test = np.mean(pred_test == y_test) * 100\n",
        "print(f\"Precisión del conjunto de prueba: {accuracy_test:.2f}%\")\n",
        "\n",
        "# Imprimir las etiquetas correspondientes a un rango de filas seleccionadas\n",
        "print(y[10680:21000])\n",
        "\n",
        "# Seleccionar un rango de filas para el conjunto de prueba\n",
        "XPrueba = X.iloc[10:10600, :].copy()\n",
        "print(XPrueba.shape)\n",
        "\n",
        "# Agregar la columna de unos al conjunto de datos de prueba\n",
        "XPrueba = np.concatenate([np.ones((10590, 1)), XPrueba], axis=1)\n",
        "print(XPrueba.shape)\n",
        "\n",
        "# Predecir etiquetas para el conjunto de prueba seleccionado\n",
        "p = np.argmax(sigmoid(XPrueba.dot(all_theta.T)), axis=1)\n",
        "print(p)\n",
        "\n",
        "# Imprimir las etiquetas correspondientes a un rango de filas seleccionadas\n",
        "print(y[10:21000])\n",
        "\n"
      ],
      "metadata": {
        "colab": {
          "base_uri": "https://localhost:8080/"
        },
        "id": "PR0lvHeBPP-R",
        "outputId": "5738e7ee-4735-4777-cab0-72760f86d9a2"
      },
      "execution_count": 272,
      "outputs": [
        {
          "output_type": "stream",
          "name": "stdout",
          "text": [
            "(16800, 11)\n",
            "Precisión del conjunto de entrenamiento: 64.71%\n",
            "Precisión del conjunto de prueba: 64.39%\n",
            "10680    1\n",
            "10681    1\n",
            "10682    1\n",
            "10683    6\n",
            "10684    2\n",
            "        ..\n",
            "20995    1\n",
            "20996    1\n",
            "20997    1\n",
            "20998    1\n",
            "20999    1\n",
            "Name: 11, Length: 10320, dtype: int64\n",
            "(10590, 11)\n",
            "(10590, 12)\n",
            "[0 2 4 ... 0 2 2]\n",
            "10       5\n",
            "11       2\n",
            "12       2\n",
            "13       5\n",
            "14       5\n",
            "        ..\n",
            "20995    1\n",
            "20996    1\n",
            "20997    1\n",
            "20998    1\n",
            "20999    1\n",
            "Name: 11, Length: 20990, dtype: int64\n"
          ]
        }
      ]
    }
  ]
}