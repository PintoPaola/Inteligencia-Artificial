{
  "nbformat": 4,
  "nbformat_minor": 0,
  "metadata": {
    "colab": {
      "provenance": [],
      "authorship_tag": "ABX9TyNlVofT5xzDuquqRsOp/UX6",
      "include_colab_link": true
    },
    "kernelspec": {
      "name": "python3",
      "display_name": "Python 3"
    },
    "language_info": {
      "name": "python"
    }
  },
  "cells": [
    {
      "cell_type": "markdown",
      "metadata": {
        "id": "view-in-github",
        "colab_type": "text"
      },
      "source": [
        "<a href=\"https://colab.research.google.com/github/PintoPaola/Inteligencia-Artificial/blob/main/parcial198.ipynb\" target=\"_parent\"><img src=\"https://colab.research.google.com/assets/colab-badge.svg\" alt=\"Open In Colab\"/></a>"
      ]
    },
    {
      "cell_type": "code",
      "source": [
        "from google.colab import drive\n",
        "drive.mount('/content/drive')"
      ],
      "metadata": {
        "colab": {
          "base_uri": "https://localhost:8080/"
        },
        "id": "sInXo2UbdFNQ",
        "outputId": "3afd69e4-20f8-4af4-cf9e-2ccdcc188581"
      },
      "execution_count": null,
      "outputs": [
        {
          "output_type": "stream",
          "name": "stdout",
          "text": [
            "Drive already mounted at /content/drive; to attempt to forcibly remount, call drive.mount(\"/content/drive\", force_remount=True).\n"
          ]
        }
      ]
    },
    {
      "cell_type": "code",
      "source": [
        "# utilizado para manejos de directorios y rutas\n",
        "import os\n",
        "\n",
        "# Computacion vectorial y cientifica para python\n",
        "import numpy as np\n",
        "\n",
        "# Librerias para graficación (trazado de gráficos)\n",
        "from matplotlib import pyplot\n",
        "from mpl_toolkits.mplot3d import Axes3D  # Necesario para graficar superficies 3D\n",
        "\n",
        "# llama a matplotlib a embeber graficas dentro de los cuadernillos\n",
        "%matplotlib inline"
      ],
      "metadata": {
        "id": "FYxz6osyceys"
      },
      "execution_count": null,
      "outputs": []
    },
    {
      "cell_type": "code",
      "execution_count": null,
      "metadata": {
        "colab": {
          "base_uri": "https://localhost:8080/"
        },
        "id": "RK5dlbaCZ1OL",
        "outputId": "f5e1761c-6e93-4bf8-b8fa-8f8e2666ec44"
      },
      "outputs": [
        {
          "output_type": "stream",
          "name": "stdout",
          "text": [
            "       song_duration_ms  acousticness  danceability    energy  \\\n",
            "0                160207      0.468952      0.558192  0.542314   \n",
            "1                175575      0.562466      0.837785  0.684599   \n",
            "2                 66156      1.025163      0.000000  0.000000   \n",
            "3                194331      0.101652      0.000000  0.811663   \n",
            "4                250925      0.676626      0.822191  0.413637   \n",
            "...                 ...           ...           ...       ...   \n",
            "15995            173846      0.549055      0.000000  0.781373   \n",
            "15996                 0      0.128596      0.490813  0.000000   \n",
            "15997            217682      0.000000      0.727543  0.932414   \n",
            "15998            186527      0.183985      0.722794  1.002028   \n",
            "15999            235673      0.047007      0.599089  0.650602   \n",
            "\n",
            "       instrumentalness  key  liveness   loudness  audio_mode  speechiness  \\\n",
            "0              0.004122    1  0.000000   0.000000           1     0.048953   \n",
            "1              0.001808    0  0.124795   0.000000           1     0.053656   \n",
            "2              0.007247    7  0.127724 -21.378036           0     0.033405   \n",
            "3              0.002250    5  0.116150  -4.430667           1     0.106921   \n",
            "4              0.000000   10  0.110757  -8.159729           1     0.106729   \n",
            "...                 ...  ...       ...        ...         ...          ...   \n",
            "15995         -0.000196    5  0.127723  -2.940253           1     0.166300   \n",
            "15996          0.003068    0  0.184845  -3.710205           0     0.187718   \n",
            "15997          0.000873    6  0.224960  -2.977455           0     0.064271   \n",
            "15998          0.000830    1  0.480483   0.000000           0     0.212254   \n",
            "15999          0.002848    2  0.209422  -7.646694           1     0.063748   \n",
            "\n",
            "            tempo  time_signature  audio_valence  \n",
            "0      118.507699               4       0.736457  \n",
            "1      102.400007               3       0.651180  \n",
            "2       81.077515               2       0.132257  \n",
            "3       79.334070               3       0.418870  \n",
            "4      101.913642               3       0.406016  \n",
            "...           ...             ...            ...  \n",
            "15995  129.205935               4       0.344746  \n",
            "15996  113.953768               4       0.811397  \n",
            "15997  122.653224               3       0.670535  \n",
            "15998  105.072615               3       0.763349  \n",
            "15999  123.748064               4       0.283864  \n",
            "\n",
            "[16000 rows x 13 columns]\n",
            "0        0\n",
            "1        1\n",
            "2        0\n",
            "3        0\n",
            "4        0\n",
            "        ..\n",
            "15995    1\n",
            "15996    0\n",
            "15997    0\n",
            "15998    0\n",
            "15999    1\n",
            "Name: song_popularity, Length: 16000, dtype: int64\n"
          ]
        }
      ],
      "source": [
        "import pandas as pd\n",
        "\n",
        "# Suponiendo que tienes acceso a la ubicación del archivo CSV\n",
        "file_path = '/content/drive/MyDrive/IA/DATASET/SPP_train_5_folds (1).csv'\n",
        "\n",
        "# Cargar el archivo CSV en un DataFrame de Pandas\n",
        "df = pd.read_csv(file_path, delimiter=',')\n",
        "\n",
        "# Convertir \"Sí\" a 1 y \"No\" a 0 en todo el DataFrame\n",
        "#df.replace({'Yes': 1, 'No': 0}, inplace=True)\n",
        "#df.replace({'Female': 1, 'Male': 0}, inplace=True)\n",
        "\n",
        "\n",
        "\n",
        "# Dividir los datos en conjuntos de entrenamiento y prueba\n",
        "\n",
        "X_train, y_train = df.iloc[:16000, 1:14], df.iloc[:16000, 14]\n",
        "X_test, y_test = df.iloc[16000:, 1:14], df.iloc[16000:, 14]\n",
        "X = X_train\n",
        "y = y_train\n",
        "\n",
        "print(X)\n",
        "print(y)\n",
        "\n",
        "\n"
      ]
    },
    {
      "cell_type": "markdown",
      "source": [
        "Sigmoide\n",
        "Sirve para mapear las entradas a probabilidades en el rango de 0 a 1"
      ],
      "metadata": {
        "id": "5pUihAhNkDih"
      }
    },
    {
      "cell_type": "code",
      "execution_count": null,
      "metadata": {
        "id": "pk9dV23xJVNh"
      },
      "outputs": [],
      "source": [
        "def sigmoid(z):\n",
        "    z = np.array(z)\n",
        "\n",
        "    g = np.zeros(z.shape)\n",
        "\n",
        "    g = 1 / (1 + np.exp(-z))\n",
        "\n",
        "    return g"
      ]
    },
    {
      "cell_type": "code",
      "source": [
        "# Prueba la implementacion de la funcion sigmoid\n",
        "z = [0, 0.5, 1]\n",
        "g = sigmoid(z)\n",
        "\n",
        "print('g(', z, ') = ', g)"
      ],
      "metadata": {
        "colab": {
          "base_uri": "https://localhost:8080/"
        },
        "id": "VCQ4-fd2kT5x",
        "outputId": "5d4e66ca-ae39-4cbd-c7c3-115dc6dfdd40"
      },
      "execution_count": null,
      "outputs": [
        {
          "output_type": "stream",
          "name": "stdout",
          "text": [
            "g( [0, 0.5, 1] ) =  [0.5        0.62245933 0.73105858]\n"
          ]
        }
      ]
    },
    {
      "cell_type": "markdown",
      "source": [
        "Normaliza las características de entrada de una matriz"
      ],
      "metadata": {
        "id": "atEWV_W_kkGo"
      }
    },
    {
      "cell_type": "code",
      "source": [
        "def  featureNormalize(X):\n",
        "    X_norm = X.copy()\n",
        "    mu = np.zeros(X.shape[1])\n",
        "    sigma = np.zeros(X.shape[1])\n",
        "\n",
        "    mu = np.mean(X, axis = 0)\n",
        "    sigma = np.std(X, axis = 0)\n",
        "    X_norm = (X - mu) / sigma\n",
        "\n",
        "    return X_norm, mu, sigma"
      ],
      "metadata": {
        "id": "8JON5N8VkjPq"
      },
      "execution_count": null,
      "outputs": []
    },
    {
      "cell_type": "code",
      "source": [
        "# llama featureNormalize con los datos cargados\n",
        "X_norm, mu, sigma = featureNormalize(X)"
      ],
      "metadata": {
        "id": "B375VimWkqcY"
      },
      "execution_count": null,
      "outputs": []
    },
    {
      "cell_type": "code",
      "source": [
        "# Configurar la matriz adecuadamente, y agregar una columna de unos que corresponde al termino de intercepción.\n",
        "m, n = X.shape\n",
        "# Agraga el termino de intercepción a A\n",
        "X= np.concatenate([np.ones((m, 1)), X_norm], axis=1)\n",
        "# X = np.concatenate([np.ones((m, 1)), X], axis=1)"
      ],
      "metadata": {
        "id": "xVOmTmVIAVD5"
      },
      "execution_count": null,
      "outputs": []
    },
    {
      "cell_type": "code",
      "source": [
        "def calcularCosto(theta, X, y):\n",
        "    # Inicializar algunos valores utiles\n",
        "    m = y.size  # numero de ejemplos de entrenamiento\n",
        "\n",
        "    J = 0\n",
        "    h = sigmoid(X.dot(theta.T))\n",
        "    J = (1 / m) * np.sum(-y.dot(np.log(h)) - (1 - y).dot(np.log(1 - h)))\n",
        "\n",
        "    return J"
      ],
      "metadata": {
        "id": "GnxXUPIylCrw"
      },
      "execution_count": null,
      "outputs": []
    },
    {
      "cell_type": "code",
      "source": [
        "# Descenso por el gradiente\n",
        "def descensoGradiente(theta, X, y, alpha, num_iters):\n",
        "    m = len(y)\n",
        "    J_history = []\n",
        "\n",
        "    for i in range(num_iters):\n",
        "        h = sigmoid(X.dot(theta))\n",
        "        theta = theta - (alpha / m) * (X.T.dot(h - y))\n",
        "        J_history.append(calcularCosto(theta, X, y))\n",
        "\n",
        "    return theta, J_history"
      ],
      "metadata": {
        "id": "Ql4RYPxPlKcZ"
      },
      "execution_count": null,
      "outputs": []
    },
    {
      "cell_type": "code",
      "source": [
        "# Elegir algun valor para alpha (probar varias alternativas)\n",
        "alpha = 0.001\n",
        "num_iters = 10000\n",
        "\n",
        "# inicializa theta y ejecuta el descenso por el gradiente\n",
        "theta = np.zeros(14)\n",
        "theta, J_history = descensoGradiente(theta, X, y, alpha, num_iters)\n",
        "\n",
        "# Grafica la convergencia del costo\n",
        "pyplot.plot(np.arange(len(J_history)), J_history, lw=2)\n",
        "pyplot.xlabel('Numero de iteraciones')\n",
        "pyplot.ylabel('Costo J')\n",
        "\n",
        "# Muestra los resultados del descenso por el gradiente\n",
        "print('theta calculado por el descenso por el gradiente: {:s}'.format(str(theta)))"
      ],
      "metadata": {
        "colab": {
          "base_uri": "https://localhost:8080/",
          "height": 501
        },
        "id": "EFaQQwbGlM-o",
        "outputId": "702227e5-e101-4097-b712-4832c626e9f2"
      },
      "execution_count": null,
      "outputs": [
        {
          "output_type": "stream",
          "name": "stdout",
          "text": [
            "theta calculado por el descenso por el gradiente: [-0.51799656  0.00977255  0.00822476  0.01325624 -0.02876004 -0.05804522\n",
            "  0.03737839  0.01906758 -0.04716408 -0.01742154  0.05936629 -0.02536936\n",
            " -0.01886469 -0.06525674]\n"
          ]
        },
        {
          "output_type": "display_data",
          "data": {
            "text/plain": [
              "<Figure size 640x480 with 1 Axes>"
            ],
            "image/png": "[encoded data removed]"
          },
          "metadata": {}
        }
      ]
    },
    {
      "cell_type": "code",
      "source": [
        "print(X_test)\n",
        "print(theta)"
      ],
      "metadata": {
        "colab": {
          "base_uri": "https://localhost:8080/"
        },
        "id": "FFHEvkKjlPR5",
        "outputId": "50ff6f0c-053d-4831-9af9-81d980749404"
      },
      "execution_count": null,
      "outputs": [
        {
          "output_type": "stream",
          "name": "stdout",
          "text": [
            "       song_duration_ms  acousticness  danceability    energy  \\\n",
            "16000            177240      0.115801      0.703109  0.392876   \n",
            "16001            253736      0.087003      0.641825  0.712615   \n",
            "16002            256669      0.295037      0.548004  0.866272   \n",
            "16003            240393      0.243936      0.687442  0.000000   \n",
            "16004            263692      0.000000      0.537853  0.464865   \n",
            "...                 ...           ...           ...       ...   \n",
            "19995                 0      0.000000      0.652824  0.754717   \n",
            "19996            224982      0.700969      0.451393  0.764497   \n",
            "19997            235595      0.070360      0.720892  0.792667   \n",
            "19998            183743      0.304418      0.000000  0.992989   \n",
            "19999            248965      0.326164      0.568383  0.000000   \n",
            "\n",
            "       instrumentalness  key  liveness   loudness  audio_mode  speechiness  \\\n",
            "16000          0.002278    0  0.169437 -10.760819           0     0.043423   \n",
            "16001          0.001000    0  0.459868  -3.085447           1     0.063591   \n",
            "16002          0.171174   10  0.327636  -2.701945           1     0.049061   \n",
            "16003          0.002505    0  0.087286  -8.243482           0     0.038547   \n",
            "16004          0.001554    5  0.350319  -5.644566           0     0.312333   \n",
            "...                 ...  ...       ...        ...         ...          ...   \n",
            "19995          0.002985    1  0.654948  -7.193480           1     0.044046   \n",
            "19996          0.001145    9  0.092511  -4.011037           0     0.048373   \n",
            "19997          0.000907    9  0.166619 -11.483861           0     0.079731   \n",
            "19998         -0.000568    0  0.069839  -5.523245           0     0.034634   \n",
            "19999          0.001719    2  0.098803  -9.143433           0     0.044548   \n",
            "\n",
            "            tempo  time_signature  audio_valence  \n",
            "16000   99.494416               3       0.535541  \n",
            "16001  124.684262               3       0.787288  \n",
            "16002  123.014133               4       0.874953  \n",
            "16003  142.669021               4       0.497096  \n",
            "16004   95.957335               3       0.557409  \n",
            "...           ...             ...            ...  \n",
            "19995   86.374478               3       0.953053  \n",
            "19996  125.746756               4       0.686649  \n",
            "19997  125.158329               3       0.775414  \n",
            "19998  110.846381               3       0.667894  \n",
            "19999  159.646087               4       0.617026  \n",
            "\n",
            "[4000 rows x 13 columns]\n",
            "[-0.51799656  0.00977255  0.00822476  0.01325624 -0.02876004 -0.05804522\n",
            "  0.03737839  0.01906758 -0.04716408 -0.01742154  0.05936629 -0.02536936\n",
            " -0.01886469 -0.06525674]\n"
          ]
        }
      ]
    },
    {
      "cell_type": "code",
      "source": [
        "X_test, y_test = df.iloc[16000:, 1:14], df.iloc[16000:, 14]\n",
        "print(X_test)\n"
      ],
      "metadata": {
        "colab": {
          "base_uri": "https://localhost:8080/"
        },
        "id": "PziDqSkF1pc7",
        "outputId": "7e3e98d7-764f-4188-9cbd-665a79b92045"
      },
      "execution_count": null,
      "outputs": [
        {
          "output_type": "stream",
          "name": "stdout",
          "text": [
            "       song_duration_ms  acousticness  danceability    energy  \\\n",
            "16000            177240      0.115801      0.703109  0.392876   \n",
            "16001            253736      0.087003      0.641825  0.712615   \n",
            "16002            256669      0.295037      0.548004  0.866272   \n",
            "16003            240393      0.243936      0.687442  0.000000   \n",
            "16004            263692      0.000000      0.537853  0.464865   \n",
            "...                 ...           ...           ...       ...   \n",
            "19995                 0      0.000000      0.652824  0.754717   \n",
            "19996            224982      0.700969      0.451393  0.764497   \n",
            "19997            235595      0.070360      0.720892  0.792667   \n",
            "19998            183743      0.304418      0.000000  0.992989   \n",
            "19999            248965      0.326164      0.568383  0.000000   \n",
            "\n",
            "       instrumentalness  key  liveness   loudness  audio_mode  speechiness  \\\n",
            "16000          0.002278    0  0.169437 -10.760819           0     0.043423   \n",
            "16001          0.001000    0  0.459868  -3.085447           1     0.063591   \n",
            "16002          0.171174   10  0.327636  -2.701945           1     0.049061   \n",
            "16003          0.002505    0  0.087286  -8.243482           0     0.038547   \n",
            "16004          0.001554    5  0.350319  -5.644566           0     0.312333   \n",
            "...                 ...  ...       ...        ...         ...          ...   \n",
            "19995          0.002985    1  0.654948  -7.193480           1     0.044046   \n",
            "19996          0.001145    9  0.092511  -4.011037           0     0.048373   \n",
            "19997          0.000907    9  0.166619 -11.483861           0     0.079731   \n",
            "19998         -0.000568    0  0.069839  -5.523245           0     0.034634   \n",
            "19999          0.001719    2  0.098803  -9.143433           0     0.044548   \n",
            "\n",
            "            tempo  time_signature  audio_valence  \n",
            "16000   99.494416               3       0.535541  \n",
            "16001  124.684262               3       0.787288  \n",
            "16002  123.014133               4       0.874953  \n",
            "16003  142.669021               4       0.497096  \n",
            "16004   95.957335               3       0.557409  \n",
            "...           ...             ...            ...  \n",
            "19995   86.374478               3       0.953053  \n",
            "19996  125.746756               4       0.686649  \n",
            "19997  125.158329               3       0.775414  \n",
            "19998  110.846381               3       0.667894  \n",
            "19999  159.646087               4       0.617026  \n",
            "\n",
            "[4000 rows x 13 columns]\n"
          ]
        }
      ]
    },
    {
      "cell_type": "code",
      "source": [
        "\n",
        "# Normalizar los datos de prueba X_test\n",
        "X_test_norm, mu, sigma = featureNormalize(X_test)\n",
        "\n",
        "# Agregar una columna de unos correspondiente al término de intercepción\n",
        "m, n = X_test_norm.shape\n",
        "X_test_norm = np.concatenate([np.ones((m, 1)), X_test_norm], axis=1)\n",
        "\n",
        "aprueba = sigmoid(X_test_norm.dot(theta))\n",
        "\n",
        "# Imprimir la salida del modelo\n",
        "print(aprueba)"
      ],
      "metadata": {
        "colab": {
          "base_uri": "https://localhost:8080/"
        },
        "id": "dWgvq4HHXThp",
        "outputId": "91a0b03c-fa20-4d34-9779-5fa36950d4f1"
      },
      "execution_count": null,
      "outputs": [
        {
          "output_type": "stream",
          "name": "stdout",
          "text": [
            "[0.38639612 0.34204299 0.32686884 ... 0.38750433 0.33703975 0.36923801]\n"
          ]
        }
      ]
    },
    {
      "cell_type": "code",
      "source": [
        "print(X_test_norm)\n",
        "print(\"THETAS\")\n",
        "print(theta)\n",
        "print(\"PREDICt\")\n",
        "predict =sigmoid(X_test_norm.dot(theta))\n",
        "print(predict)\n"
      ],
      "metadata": {
        "colab": {
          "base_uri": "https://localhost:8080/"
        },
        "id": "NUcJI-T5Hi7h",
        "outputId": "4ac4ee6c-2bb0-46f1-d796-782417e8c1e9"
      },
      "execution_count": null,
      "outputs": [
        {
          "output_type": "stream",
          "name": "stdout",
          "text": [
            "[[ 1.          0.05180027 -0.46030703 ... -0.65159498 -0.73942379\n",
            "  -0.18663335]\n",
            " [ 1.          1.0936969  -0.55686564 ...  0.30154519 -0.73942379\n",
            "   0.88539684]\n",
            " [ 1.          1.13364517  0.14066016 ...  0.23835043  1.15168564\n",
            "   1.25870326]\n",
            " ...\n",
            " [ 1.          0.84661148 -0.61266665 ...  0.31948307 -0.73942379\n",
            "   0.83483074]\n",
            " [ 1.          0.14037292  0.17211517 ... -0.22205628 -0.73942379\n",
            "   0.37697443]\n",
            " [ 1.          1.02871457  0.24502669 ...  1.62444019  1.15168564\n",
            "   0.16036165]]\n",
            "THETAS\n",
            "[-0.51799656  0.00977255  0.00822476  0.01325624 -0.02876004 -0.05804522\n",
            "  0.03737839  0.01906758 -0.04716408 -0.01742154  0.05936629 -0.02536936\n",
            " -0.01886469 -0.06525674]\n",
            "PREDICt\n",
            "[0.38639612 0.34204299 0.32686884 ... 0.38750433 0.33703975 0.36923801]\n"
          ]
        }
      ]
    }
  ]
}