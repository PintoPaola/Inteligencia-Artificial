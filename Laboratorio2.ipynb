{
  "cells": [
    {
      "cell_type": "markdown",
      "metadata": {
        "id": "view-in-github",
        "colab_type": "text"
      },
      "source": [
        "<a href=\"https://colab.research.google.com/github/PintoPaola/Inteligencia-Artificial/blob/main/Laboratorio2.ipynb\" target=\"_parent\"><img src=\"https://colab.research.google.com/assets/colab-badge.svg\" alt=\"Open In Colab\"/></a>"
      ]
    },
    {
      "cell_type": "markdown",
      "metadata": {
        "id": "9L0KhPHmJVNa"
      },
      "source": [
        "# lab2 - Regresión Logistica\n",
        "\n"
      ]
    },
    {
      "cell_type": "code",
      "source": [
        "from google.colab import drive\n",
        "drive.mount('/content/drive')"
      ],
      "metadata": {
        "id": "z5PQZyiqJhUu"
      },
      "execution_count": null,
      "outputs": []
    },
    {
      "cell_type": "markdown",
      "source": [
        "Importa librerias"
      ],
      "metadata": {
        "id": "_KRiTYWZUjG2"
      }
    },
    {
      "cell_type": "code",
      "execution_count": 151,
      "metadata": {
        "id": "Eg6cIE74JVNd"
      },
      "outputs": [],
      "source": [
        "# se utiliza para el manejo de rutas y directorios.\n",
        "import os\n",
        "\n",
        "# Calculo cientifico y vectorial para python\n",
        "import numpy as np\n",
        "import pandas as pd\n",
        "\n",
        "# Librerias para graficar\n",
        "from matplotlib import pyplot\n",
        "\n",
        "# Modulo de optimización de scipy\n",
        "from scipy import optimize\n",
        "\n",
        "# le dice a matplotlib que incruste gráficos en el cuaderno\n",
        "%matplotlib inline"
      ]
    },
    {
      "cell_type": "markdown",
      "metadata": {
        "id": "t52vBnb_JVNe"
      },
      "source": [
        "## 1 Regresion Logistica\n",
        "\n"
      ]
    },
    {
      "cell_type": "markdown",
      "source": [
        "Este fragmento de código carga un conjunto de datos de un archivo CSV, divide los datos en conjuntos de entrenamiento y prueba, y luego imprime las primeras filas de los conjuntos de prueba X_test y y_test"
      ],
      "metadata": {
        "id": "7PlsxMUcUsNa"
      }
    },
    {
      "cell_type": "code",
      "execution_count": 152,
      "metadata": {
        "colab": {
          "base_uri": "https://localhost:8080/"
        },
        "id": "WVzUelTXJVNe",
        "outputId": "5224c4ac-c0b0-4b69-93ce-8b93966c67d6"
      },
      "outputs": [
        {
          "output_type": "stream",
          "name": "stdout",
          "text": [
            "       18393  2  168    62  110   80  1  1.1  0  0.1  1.2\n",
            "56000  18185  1  180  70.0  150  100  1    1  0    0    1\n",
            "56001  22386  2  176  75.0  120   80  1    1  0    0    1\n",
            "56002  16569  1  167  72.0  140   80  1    1  0    0    1\n",
            "56003  18936  1  155  62.0  120   80  1    1  0    0    1\n",
            "56004  16133  1  160  57.0  110   70  1    1  0    0    1\n",
            "56000    1\n",
            "56001    1\n",
            "56002    1\n",
            "56003    0\n",
            "56004    0\n",
            "Name: 0.2, dtype: int64\n"
          ]
        }
      ],
      "source": [
        "\n",
        "data = pd.read_csv('/content/drive/MyDrive/IA/DATASET/cardiaco.csv', delimiter=',')\n",
        "X_train, y_train = data.iloc[:56000, :11], data.iloc[:56000, 11]\n",
        "X_test, y_test = data.iloc[56000:, :11], data.iloc[56000:, 11]\n",
        "X = X_train\n",
        "y = y_train\n",
        "print(X_test.head())\n",
        "print(y_test.head())"
      ]
    },
    {
      "cell_type": "markdown",
      "metadata": {
        "id": "Pfpf9aEFJVNg"
      },
      "source": [
        "<a id=\"section1\"></a>\n",
        "### 1.2 Implementacion\n",
        "\n",
        "#### 1.2.1 Fución Sigmoidea\n",
        "\n"
      ]
    },
    {
      "cell_type": "markdown",
      "source": [
        "Sirve para mapear las entradas a probabilidades en el rango de 0 a 1"
      ],
      "metadata": {
        "id": "L-I4WkmzU5-e"
      }
    },
    {
      "cell_type": "code",
      "execution_count": 153,
      "metadata": {
        "id": "pk9dV23xJVNh"
      },
      "outputs": [],
      "source": [
        "def sigmoid(z):\n",
        "    z = np.array(z)\n",
        "\n",
        "    g = np.zeros(z.shape)\n",
        "\n",
        "    g = 1 / (1 + np.exp(-z))\n",
        "\n",
        "    return g"
      ]
    },
    {
      "cell_type": "code",
      "execution_count": 154,
      "metadata": {
        "colab": {
          "base_uri": "https://localhost:8080/"
        },
        "id": "uIPk61NLJVNh",
        "outputId": "b03fd8af-fbea-4128-d65f-84e7ec50c58f"
      },
      "outputs": [
        {
          "output_type": "stream",
          "name": "stdout",
          "text": [
            "g( [0, 0.5, 1] ) =  [0.5        0.62245933 0.73105858]\n"
          ]
        }
      ],
      "source": [
        "# Prueba la implementacion de la funcion sigmoid\n",
        "z = [0, 0.5, 1]\n",
        "g = sigmoid(z)\n",
        "\n",
        "print('g(', z, ') = ', g)"
      ]
    },
    {
      "cell_type": "markdown",
      "source": [
        "Normaliza las características de entrada de una matriz"
      ],
      "metadata": {
        "id": "xF7bSoQIWOGc"
      }
    },
    {
      "cell_type": "code",
      "source": [
        "def  featureNormalize(X):\n",
        "    X_norm = X.copy()\n",
        "    mu = np.zeros(X.shape[1])\n",
        "    sigma = np.zeros(X.shape[1])\n",
        "\n",
        "    mu = np.mean(X, axis = 0)\n",
        "    sigma = np.std(X, axis = 0)\n",
        "    X_norm = (X - mu) / sigma\n",
        "\n",
        "    return X_norm, mu, sigma"
      ],
      "metadata": {
        "id": "Tu9OdtoZhzQX"
      },
      "execution_count": 155,
      "outputs": []
    },
    {
      "cell_type": "code",
      "source": [
        "# llama featureNormalize con los datos cargados\n",
        "X_norm, mu, sigma = featureNormalize(X)"
      ],
      "metadata": {
        "id": "F-d-0BDK80lH"
      },
      "execution_count": 156,
      "outputs": []
    },
    {
      "cell_type": "markdown",
      "metadata": {
        "id": "tDl3_8hvJVNi"
      },
      "source": [
        "<a id=\"section2\"></a>\n",
        "#### 1.2.2 Función de Costo y Gradiente\n",
        "\n"
      ]
    },
    {
      "cell_type": "code",
      "execution_count": 157,
      "metadata": {
        "id": "ELtMkiYDJVNi"
      },
      "outputs": [],
      "source": [
        "# Configurar la matriz adecuadamente, y agregar una columna de unos que corresponde al termino de intercepción.\n",
        "m, n = X.shape\n",
        "# Agraga el termino de intercepción a A\n",
        "X= np.concatenate([np.ones((m, 1)), X_norm], axis=1)\n",
        "# X = np.concatenate([np.ones((m, 1)), X], axis=1)"
      ]
    },
    {
      "cell_type": "code",
      "execution_count": 158,
      "metadata": {
        "id": "iqDZRIgjJVNi"
      },
      "outputs": [],
      "source": [
        "def calcularCosto(theta, X, y):\n",
        "    # Inicializar algunos valores utiles\n",
        "    m = y.size  # numero de ejemplos de entrenamiento\n",
        "\n",
        "    J = 0\n",
        "    h = sigmoid(X.dot(theta.T))\n",
        "    J = (1 / m) * np.sum(-y.dot(np.log(h)) - (1 - y).dot(np.log(1 - h)))\n",
        "\n",
        "    return J\n"
      ]
    },
    {
      "cell_type": "markdown",
      "source": [
        "implementa el algoritmo de descenso por el gradiente para encontrar los parámetros óptimos THETA de un modelo de regresión logística"
      ],
      "metadata": {
        "id": "5My2Is8lW0tz"
      }
    },
    {
      "cell_type": "code",
      "execution_count": 159,
      "metadata": {
        "id": "7G4SjTrwJVNi"
      },
      "outputs": [],
      "source": [
        "# Descenso por el gradiente\n",
        "def descensoGradiente(theta, X, y, alpha, num_iters):\n",
        "    m = len(y)\n",
        "    J_history = []\n",
        "\n",
        "    for i in range(num_iters):\n",
        "        h = sigmoid(X.dot(theta))\n",
        "        theta = theta - (alpha / m) * (X.T.dot(h - y))\n",
        "        J_history.append(calcularCosto(theta, X, y))\n",
        "\n",
        "    return theta, J_history"
      ]
    },
    {
      "cell_type": "markdown",
      "source": [
        "implementa el algoritmo de descenso por el gradiente para entrenar un modelo de regresión logística en los datos de entrenamiento\n",
        "X,Y luego grafica la convergencia del costo a lo largo de las iteraciones. Los parámetros THETA resultantes se utilizan para hacer predicciones sobre nuevos datos"
      ],
      "metadata": {
        "id": "4mVYXxYZX6kb"
      }
    },
    {
      "cell_type": "code",
      "execution_count": 145,
      "metadata": {
        "scrolled": true,
        "colab": {
          "base_uri": "https://localhost:8080/",
          "height": 484
        },
        "id": "rBUlehg6JVNi",
        "outputId": "8fdffd40-1f10-4619-a468-5fb00df42e13"
      },
      "outputs": [
        {
          "output_type": "stream",
          "name": "stdout",
          "text": [
            "theta calculado por el descenso por el gradiente: [ 0.00656722  0.3995281   0.02136479 -0.05454534  0.30258249  0.15063097\n",
            "  0.14209092  0.34931656 -0.00077501 -0.03130267 -0.02755343 -0.06473892]\n"
          ]
        },
        {
          "output_type": "display_data",
          "data": {
            "text/plain": [
              "<Figure size 640x480 with 1 Axes>"
            ],
            "image/png": "[encoded data removed]"
          },
          "metadata": {}
        }
      ],
      "source": [
        "# Elegir algun valor para alpha (probar varias alternativas)\n",
        "alpha = 0.001\n",
        "num_iters = 10000\n",
        "\n",
        "# Inicializar theta y ejecutar descenso por el gradiente\n",
        "theta = np.zeros(12)\n",
        "theta, J_history = descensoGradiente(theta, X, y, alpha, num_iters)\n",
        "\n",
        "# Grafica la convergencia del costo\n",
        "pyplot.plot(np.arange(len(J_history)), J_history, lw=2)\n",
        "pyplot.xlabel('Numero de iteraciones')\n",
        "pyplot.ylabel('Costo J')\n",
        "\n",
        "# Muestra los resultados del descenso por el gradiente\n",
        "print('theta calculado por el descenso por el gradiente: {:s}'.format(str(theta)))"
      ]
    },
    {
      "cell_type": "code",
      "source": [
        "print(X_test)\n",
        "print(theta)"
      ],
      "metadata": {
        "colab": {
          "base_uri": "https://localhost:8080/"
        },
        "id": "X0wA1m-yX0J2",
        "outputId": "07954b1c-1703-4afe-84de-8004358678ea"
      },
      "execution_count": 146,
      "outputs": [
        {
          "output_type": "stream",
          "name": "stdout",
          "text": [
            "       18393  2  168     62  110   80  1  1.1  0  0.1  1.2\n",
            "56000  18185  1  180   70.0  150  100  1    1  0    0    1\n",
            "56001  22386  2  176   75.0  120   80  1    1  0    0    1\n",
            "56002  16569  1  167   72.0  140   80  1    1  0    0    1\n",
            "56003  18936  1  155   62.0  120   80  1    1  0    0    1\n",
            "56004  16133  1  160   57.0  110   70  1    1  0    0    1\n",
            "...      ... ..  ...    ...  ...  ... ..  ... ..  ...  ...\n",
            "69994  19240  2  168   76.0  120   80  1    1  1    0    1\n",
            "69995  22601  1  158  126.0  140   90  2    2  0    0    1\n",
            "69996  19066  2  183  105.0  180   90  3    1  0    1    0\n",
            "69997  22431  1  163   72.0  135   80  1    2  0    0    0\n",
            "69998  20540  1  170   72.0  120   80  2    1  0    0    1\n",
            "\n",
            "[13999 rows x 11 columns]\n",
            "[ 0.00656722  0.3995281   0.02136479 -0.05454534  0.30258249  0.15063097\n",
            "  0.14209092  0.34931656 -0.00077501 -0.03130267 -0.02755343 -0.06473892]\n"
          ]
        }
      ]
    },
    {
      "cell_type": "code",
      "source": [
        "X_test, y_test = data.iloc[56000:, :11], data.iloc[56000:, 11]\n",
        "print(X_test)\n"
      ],
      "metadata": {
        "id": "Tk_WZUvrZjac",
        "colab": {
          "base_uri": "https://localhost:8080/"
        },
        "outputId": "d0f6c583-4cde-4c8f-b3f4-e5dc1e59cda0"
      },
      "execution_count": 147,
      "outputs": [
        {
          "output_type": "stream",
          "name": "stdout",
          "text": [
            "       18393  2  168     62  110   80  1  1.1  0  0.1  1.2\n",
            "56000  18185  1  180   70.0  150  100  1    1  0    0    1\n",
            "56001  22386  2  176   75.0  120   80  1    1  0    0    1\n",
            "56002  16569  1  167   72.0  140   80  1    1  0    0    1\n",
            "56003  18936  1  155   62.0  120   80  1    1  0    0    1\n",
            "56004  16133  1  160   57.0  110   70  1    1  0    0    1\n",
            "...      ... ..  ...    ...  ...  ... ..  ... ..  ...  ...\n",
            "69994  19240  2  168   76.0  120   80  1    1  1    0    1\n",
            "69995  22601  1  158  126.0  140   90  2    2  0    0    1\n",
            "69996  19066  2  183  105.0  180   90  3    1  0    1    0\n",
            "69997  22431  1  163   72.0  135   80  1    2  0    0    0\n",
            "69998  20540  1  170   72.0  120   80  2    1  0    0    1\n",
            "\n",
            "[13999 rows x 11 columns]\n"
          ]
        }
      ]
    },
    {
      "cell_type": "markdown",
      "source": [
        "Se toma los datos de prueba X_test, los normaliza usando la función featureNormalize, agrega una columna de unos al principio para el término de intercepción, y luego utiliza un modelo de regresión logística previamente entrenado (definido por el vector de parámetros theta) para hacer predicciones sobre los datos de prueba normalizados. Las predicciones se calculan aplicando la función sigmoide a la multiplicación de la matriz de características normalizadas por el vector de parámetros\n"
      ],
      "metadata": {
        "id": "GLBev0K2Yph0"
      }
    },
    {
      "cell_type": "code",
      "source": [
        "\n",
        "# Normalizar los datos de prueba X_test\n",
        "X_test_norm, mu, sigma = featureNormalize(X_test)\n",
        "\n",
        "# Agregar una columna de unos correspondiente al término de intercepción\n",
        "m, n = X_test_norm.shape\n",
        "X_test_norm = np.concatenate([np.ones((m, 1)), X_test_norm], axis=1)\n",
        "\n",
        "# multiplicación de la matriz X_test_norm con el vector theta\n",
        "aprueba = sigmoid(X_test_norm.dot(theta))\n",
        "\n",
        "# Imprimir la salida del modelo\n",
        "print(aprueba)\n"
      ],
      "metadata": {
        "colab": {
          "base_uri": "https://localhost:8080/"
        },
        "id": "dWgvq4HHXThp",
        "outputId": "da94f211-2ff4-4b8c-da1f-33e3282ebfa2"
      },
      "execution_count": 168,
      "outputs": [
        {
          "output_type": "stream",
          "name": "stdout",
          "text": [
            "[0.37805247 0.54806195 0.33163876 ... 0.831224   0.60235911 0.5824632 ]\n"
          ]
        }
      ]
    },
    {
      "cell_type": "code",
      "source": [
        "print(X_test_norm)\n",
        "print(theta)\n",
        "predict =sigmoid(X_test_norm.dot(theta))\n",
        "print(predict)"
      ],
      "metadata": {
        "colab": {
          "base_uri": "https://localhost:8080/"
        },
        "id": "ii3TtU2LY9_p",
        "outputId": "9f93c975-44fb-4d14-db9d-6b1aeed14f51"
      },
      "execution_count": 170,
      "outputs": [
        {
          "output_type": "stream",
          "name": "stdout",
          "text": [
            "[[ 1.         -0.52632243 -0.75027441 ... -0.31271166 -0.24192048\n",
            "   0.49454708]\n",
            " [ 1.          1.18332684  1.33284567 ... -0.31271166 -0.24192048\n",
            "   0.49454708]\n",
            " [ 1.         -1.18397375 -0.75027441 ... -0.31271166 -0.24192048\n",
            "   0.49454708]\n",
            " ...\n",
            " [ 1.         -0.16778851  1.33284567 ... -0.31271166  4.13358964\n",
            "  -2.02205218]\n",
            " [ 1.          1.20164015 -0.75027441 ... -0.31271166 -0.24192048\n",
            "  -2.02205218]\n",
            " [ 1.          0.43207415 -0.75027441 ... -0.31271166 -0.24192048\n",
            "   0.49454708]]\n",
            "[ 0.00656722  0.3995281   0.02136479 -0.05454534  0.30258249  0.15063097\n",
            "  0.14209092  0.34931656 -0.00077501 -0.03130267 -0.02755343 -0.06473892]\n",
            "[0.37805247 0.54806195 0.33163876 ... 0.831224   0.60235911 0.5824632 ]\n"
          ]
        }
      ]
    }
  ],
  "metadata": {
    "kernelspec": {
      "display_name": "Python 3",
      "language": "python",
      "name": "python3"
    },
    "language_info": {
      "codemirror_mode": {
        "name": "ipython",
        "version": 3
      },
      "file_extension": ".py",
      "mimetype": "text/x-python",
      "name": "python",
      "nbconvert_exporter": "python",
      "pygments_lexer": "ipython3",
      "version": "3.8.5"
    },
    "colab": {
      "provenance": [],
      "include_colab_link": true
    }
  },
  "nbformat": 4,
  "nbformat_minor": 0
}