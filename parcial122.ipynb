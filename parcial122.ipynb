{
  "nbformat": 4,
  "nbformat_minor": 0,
  "metadata": {
    "colab": {
      "provenance": [],
      "authorship_tag": "ABX9TyNkdtOZ9pv1ZYZO0ChuuLdn",
      "include_colab_link": true
    },
    "kernelspec": {
      "name": "python3",
      "display_name": "Python 3"
    },
    "language_info": {
      "name": "python"
    }
  },
  "cells": [
    {
      "cell_type": "markdown",
      "metadata": {
        "id": "view-in-github",
        "colab_type": "text"
      },
      "source": [
        "<a href=\"https://colab.research.google.com/github/PintoPaola/Inteligencia-Artificial/blob/main/parcial122.ipynb\" target=\"_parent\"><img src=\"https://colab.research.google.com/assets/colab-badge.svg\" alt=\"Open In Colab\"/></a>"
      ]
    },
    {
      "cell_type": "code",
      "source": [
        "from google.colab import drive\n",
        "drive.mount('/content/drive')"
      ],
      "metadata": {
        "colab": {
          "base_uri": "https://localhost:8080/"
        },
        "id": "sInXo2UbdFNQ",
        "outputId": "c8333d68-560f-4912-a430-1db361f705b8"
      },
      "execution_count": null,
      "outputs": [
        {
          "output_type": "stream",
          "name": "stdout",
          "text": [
            "Drive already mounted at /content/drive; to attempt to forcibly remount, call drive.mount(\"/content/drive\", force_remount=True).\n"
          ]
        }
      ]
    },
    {
      "cell_type": "code",
      "source": [
        "# utilizado para manejos de directorios y rutas\n",
        "import os\n",
        "\n",
        "# Computacion vectorial y cientifica para python\n",
        "import numpy as np\n",
        "\n",
        "# Librerias para graficación (trazado de gráficos)\n",
        "from matplotlib import pyplot\n",
        "from mpl_toolkits.mplot3d import Axes3D  # Necesario para graficar superficies 3D\n",
        "\n",
        "# llama a matplotlib a embeber graficas dentro de los cuadernillos\n",
        "%matplotlib inline"
      ],
      "metadata": {
        "id": "FYxz6osyceys"
      },
      "execution_count": null,
      "outputs": []
    },
    {
      "cell_type": "code",
      "execution_count": null,
      "metadata": {
        "colab": {
          "base_uri": "https://localhost:8080/"
        },
        "id": "RK5dlbaCZ1OL",
        "outputId": "c0f18f0c-8b39-455b-c017-c40185cde303"
      },
      "outputs": [
        {
          "output_type": "stream",
          "name": "stdout",
          "text": [
            "Conjunto de entrenamiento (X_train):\n",
            "     BMI  Smoking  AlcoholDrinking  Stroke  PhysicalHealth  MentalHealth  \\\n",
            "0  16.60        1                0       0               3            30   \n",
            "1  20.34        0                0       1               0             0   \n",
            "2  26.58        1                0       0              20            30   \n",
            "3  24.21        0                0       0               0             0   \n",
            "4  23.71        0                0       0              28             0   \n",
            "\n",
            "   DiffWalking  Sex  AgeCategory  Race  Diabetic  PhysicalActivity  GenHealth  \\\n",
            "0            0    1            8     1         1                 1          2   \n",
            "1            0    1           13     1         0                 1          2   \n",
            "2            0    2           10     1         1                 1          4   \n",
            "3            0    1           12     1         0                 0          3   \n",
            "4            1    1            5     1         0                 1          2   \n",
            "\n",
            "   SleepTime  Asthma  KidneyDisease  SkinCancer  \n",
            "0          5       1              0           1  \n",
            "1          7       0              0           0  \n",
            "2          8       1              0           0  \n",
            "3          6       0              0           1  \n",
            "4          8       0              0           0  \n",
            "\n",
            "Etiquetas de entrenamiento (y_train):\n",
            "0    0\n",
            "1    0\n",
            "2    0\n",
            "3    0\n",
            "4    0\n",
            "Name: HeartDisease, dtype: int64\n",
            "\n",
            "Conjunto de prueba (X_test):\n",
            "         BMI  Smoking  AlcoholDrinking  Stroke  PhysicalHealth  MentalHealth  \\\n",
            "16000  26.66        1                0       1               0             0   \n",
            "16001  26.63        1                0       0               0             0   \n",
            "16002  41.25        1                0       0               0             0   \n",
            "16003  39.87        0                0       0               0             5   \n",
            "16004  26.63        0                0       0               0             0   \n",
            "\n",
            "       DiffWalking  Sex  AgeCategory  Race  Diabetic  PhysicalActivity  \\\n",
            "16000            0    1           12     1         1                 1   \n",
            "16001            0    2           12     1         1                 1   \n",
            "16002            0    2            9     1         0                 0   \n",
            "16003            0    1            7     1         0                 1   \n",
            "16004            0    2           13     1         0                 1   \n",
            "\n",
            "       GenHealth  SleepTime  Asthma  KidneyDisease  SkinCancer  \n",
            "16000          3          8       0              0           1  \n",
            "16001          5          8       0              1           0  \n",
            "16002          2          7       0              0           0  \n",
            "16003          2          7       0              0           0  \n",
            "16004          3          9       0              0           0  \n",
            "\n",
            "Etiquetas de prueba (y_test):\n",
            "16000    1\n",
            "16001    1\n",
            "16002    0\n",
            "16003    0\n",
            "16004    0\n",
            "Name: HeartDisease, dtype: int64\n"
          ]
        }
      ],
      "source": [
        "import pandas as pd\n",
        "\n",
        "# Suponiendo que tienes acceso a la ubicación del archivo CSV\n",
        "file_path = '/content/drive/MyDrive/IA/DATASET/heart_2020-cleaned.csv'\n",
        "\n",
        "# Cargar el archivo CSV en un DataFrame de Pandas\n",
        "df = pd.read_csv(file_path, delimiter=',')\n",
        "\n",
        "# Convertir \"Sí\" a 1 y \"No\" a 0 en todo el DataFrame si es necesario\n",
        "# Por ejemplo:\n",
        "# df.replace({'Yes': 1, 'No': 0}, inplace=True)\n",
        "\n",
        "# Dividir los datos en conjuntos de entrenamiento y prueba\n",
        "X_train, y_train = df.iloc[:16000, 1:18], df.iloc[:16000, 0]\n",
        "X_test, y_test = df.iloc[16000:, 1:18], df.iloc[16000:, 0]\n",
        "X = X_train\n",
        "y = y_train\n",
        "\n",
        "# Visualizar los conjuntos de entrenamiento\n",
        "print(\"Conjunto de entrenamiento (X_train):\")\n",
        "print(X_train.head())\n",
        "print(\"\\nEtiquetas de entrenamiento (y_train):\")\n",
        "print(y_train.head())\n",
        "\n",
        "# Visualizar los conjuntos de prueba\n",
        "print(\"\\nConjunto de prueba (X_test):\")\n",
        "print(X_test.head())\n",
        "print(\"\\nEtiquetas de prueba (y_test):\")\n",
        "print(y_test.head())\n",
        "\n"
      ]
    },
    {
      "cell_type": "markdown",
      "source": [
        "Sigmoide\n",
        "Sirve para mapear las entradas a probabilidades en el rango de 0 a 1"
      ],
      "metadata": {
        "id": "5pUihAhNkDih"
      }
    },
    {
      "cell_type": "code",
      "execution_count": null,
      "metadata": {
        "id": "pk9dV23xJVNh"
      },
      "outputs": [],
      "source": [
        "def sigmoid(z):\n",
        "    z = np.array(z)\n",
        "\n",
        "    g = np.zeros(z.shape)\n",
        "\n",
        "    g = 1 / (1 + np.exp(-z))\n",
        "\n",
        "    return g"
      ]
    },
    {
      "cell_type": "code",
      "source": [
        "# Prueba la implementacion de la funcion sigmoid\n",
        "z = [0, 0.5, 1]\n",
        "g = sigmoid(z)\n",
        "\n",
        "print('g(', z, ') = ', g)"
      ],
      "metadata": {
        "colab": {
          "base_uri": "https://localhost:8080/"
        },
        "id": "VCQ4-fd2kT5x",
        "outputId": "aad8c93c-1983-4db6-d8ee-b29bc0c24e4b"
      },
      "execution_count": null,
      "outputs": [
        {
          "output_type": "stream",
          "name": "stdout",
          "text": [
            "g( [0, 0.5, 1] ) =  [0.5        0.62245933 0.73105858]\n"
          ]
        }
      ]
    },
    {
      "cell_type": "markdown",
      "source": [
        "Normaliza las características de entrada de una matriz"
      ],
      "metadata": {
        "id": "atEWV_W_kkGo"
      }
    },
    {
      "cell_type": "code",
      "source": [
        "def  featureNormalize(X):\n",
        "    X_norm = X.copy()\n",
        "    mu = np.zeros(X.shape[1])\n",
        "    sigma = np.zeros(X.shape[1])\n",
        "\n",
        "    mu = np.mean(X, axis = 0)\n",
        "    sigma = np.std(X, axis = 0)\n",
        "    X_norm = (X - mu) / sigma\n",
        "\n",
        "    return X_norm, mu, sigma"
      ],
      "metadata": {
        "id": "8JON5N8VkjPq"
      },
      "execution_count": null,
      "outputs": []
    },
    {
      "cell_type": "code",
      "source": [
        "# llama featureNormalize con los datos cargados\n",
        "X_norm, mu, sigma = featureNormalize(X)"
      ],
      "metadata": {
        "id": "B375VimWkqcY"
      },
      "execution_count": null,
      "outputs": []
    },
    {
      "cell_type": "code",
      "source": [
        "# Configurar la matriz adecuadamente, y agregar una columna de unos que corresponde al termino de intercepción.\n",
        "m, n = X.shape\n",
        "# Agraga el termino de intercepción a A\n",
        "X= np.concatenate([np.ones((m, 1)), X_norm], axis=1)\n",
        "# X = np.concatenate([np.ones((m, 1)), X], axis=1)"
      ],
      "metadata": {
        "id": "xVOmTmVIAVD5"
      },
      "execution_count": null,
      "outputs": []
    },
    {
      "cell_type": "code",
      "source": [
        "def calcularCosto(theta, X, y):\n",
        "    # Inicializar algunos valores utiles\n",
        "    m = y.size  # numero de ejemplos de entrenamiento\n",
        "\n",
        "    J = 0\n",
        "    h = sigmoid(X.dot(theta.T))\n",
        "    J = (1 / m) * np.sum(-y.dot(np.log(h)) - (1 - y).dot(np.log(1 - h)))\n",
        "\n",
        "    return J"
      ],
      "metadata": {
        "id": "GnxXUPIylCrw"
      },
      "execution_count": null,
      "outputs": []
    },
    {
      "cell_type": "code",
      "source": [
        "# Descenso por el gradiente\n",
        "def descensoGradiente(theta, X, y, alpha, num_iters):\n",
        "    m = len(y)\n",
        "    J_history = []\n",
        "\n",
        "    for i in range(num_iters):\n",
        "        h = sigmoid(X.dot(theta))\n",
        "        theta = theta - (alpha / m) * (X.T.dot(h - y))\n",
        "        J_history.append(calcularCosto(theta, X, y))\n",
        "\n",
        "    return theta, J_history"
      ],
      "metadata": {
        "id": "Ql4RYPxPlKcZ"
      },
      "execution_count": null,
      "outputs": []
    },
    {
      "cell_type": "code",
      "source": [
        "# Elegir algun valor para alpha (probar varias alternativas)\n",
        "alpha = 0.001\n",
        "num_iters = 10000\n",
        "\n",
        "# inicializa theta y ejecuta el descenso por el gradiente\n",
        "theta = np.zeros(18)\n",
        "theta, J_history = descensoGradiente(theta, X, y, alpha, num_iters)\n",
        "\n",
        "# Grafica la convergencia del costo\n",
        "pyplot.plot(np.arange(len(J_history)), J_history, lw=2)\n",
        "pyplot.xlabel('Numero de iteraciones')\n",
        "pyplot.ylabel('Costo J')\n",
        "\n",
        "# Muestra los resultados del descenso por el gradiente\n",
        "print('theta calculado por el descenso por el gradiente: {:s}'.format(str(theta)))"
      ],
      "metadata": {
        "colab": {
          "base_uri": "https://localhost:8080/",
          "height": 536
        },
        "id": "EFaQQwbGlM-o",
        "outputId": "8c4c16c5-7536-4989-821a-16e668d4a36c"
      },
      "execution_count": null,
      "outputs": [
        {
          "output_type": "stream",
          "name": "stdout",
          "text": [
            "theta calculado por el descenso por el gradiente: [-1.72889013e+00 -8.02825325e-04  7.56535523e-02 -2.02547912e-02\n",
            "  1.75933912e-01  9.13437774e-02 -4.91641293e-03  9.75304059e-02\n",
            "  1.34064437e-01  2.42952701e-01 -4.08121389e-02  1.05864093e-01\n",
            " -4.72453159e-02  1.90298908e-01  1.26837937e-02  2.23705107e-02\n",
            "  8.41794174e-02  7.16439856e-02]\n"
          ]
        },
        {
          "output_type": "display_data",
          "data": {
            "text/plain": [
              "<Figure size 640x480 with 1 Axes>"
            ],
            "image/png": "[encoded data removed]"
          },
          "metadata": {}
        }
      ]
    },
    {
      "cell_type": "code",
      "source": [
        "print(X_test)\n",
        "print(theta)"
      ],
      "metadata": {
        "colab": {
          "base_uri": "https://localhost:8080/"
        },
        "id": "FFHEvkKjlPR5",
        "outputId": "7e48a363-22aa-46ff-de46-9b0228c07dbb"
      },
      "execution_count": null,
      "outputs": [
        {
          "output_type": "stream",
          "name": "stdout",
          "text": [
            "          BMI  Smoking  AlcoholDrinking  Stroke  PhysicalHealth  MentalHealth  \\\n",
            "16000   26.66        1                0       1               0             0   \n",
            "16001   26.63        1                0       0               0             0   \n",
            "16002   41.25        1                0       0               0             0   \n",
            "16003   39.87        0                0       0               0             5   \n",
            "16004   26.63        0                0       0               0             0   \n",
            "...       ...      ...              ...     ...             ...           ...   \n",
            "319790  27.41        1                0       0               7             0   \n",
            "319791  29.84        1                0       0               0             0   \n",
            "319792  24.24        0                0       0               0             0   \n",
            "319793  32.81        0                0       0               0             0   \n",
            "319794  46.56        0                0       0               0             0   \n",
            "\n",
            "        DiffWalking  Sex  AgeCategory  Race  Diabetic  PhysicalActivity  \\\n",
            "16000             0    1           12     1         1                 1   \n",
            "16001             0    2           12     1         1                 1   \n",
            "16002             0    2            9     1         0                 0   \n",
            "16003             0    1            7     1         0                 1   \n",
            "16004             0    2           13     1         0                 1   \n",
            "...             ...  ...          ...   ...       ...               ...   \n",
            "319790            1    2            9     4         1                 0   \n",
            "319791            0    2            4     4         0                 1   \n",
            "319792            0    1            6     4         0                 1   \n",
            "319793            0    1            2     4         0                 0   \n",
            "319794            0    1           13     4         0                 1   \n",
            "\n",
            "        GenHealth  SleepTime  Asthma  KidneyDisease  SkinCancer  \n",
            "16000           3          8       0              0           1  \n",
            "16001           5          8       0              1           0  \n",
            "16002           2          7       0              0           0  \n",
            "16003           2          7       0              0           0  \n",
            "16004           3          9       0              0           0  \n",
            "...           ...        ...     ...            ...         ...  \n",
            "319790          4          6       1              0           0  \n",
            "319791          2          5       1              0           0  \n",
            "319792          3          6       0              0           0  \n",
            "319793          3         12       0              0           0  \n",
            "319794          3          8       0              0           0  \n",
            "\n",
            "[303795 rows x 17 columns]\n",
            "[-1.72889013e+00 -8.02825325e-04  7.56535523e-02 -2.02547912e-02\n",
            "  1.75933912e-01  9.13437774e-02 -4.91641293e-03  9.75304059e-02\n",
            "  1.34064437e-01  2.42952701e-01 -4.08121389e-02  1.05864093e-01\n",
            " -4.72453159e-02  1.90298908e-01  1.26837937e-02  2.23705107e-02\n",
            "  8.41794174e-02  7.16439856e-02]\n"
          ]
        }
      ]
    },
    {
      "cell_type": "code",
      "source": [
        "X_test, y_test = df.iloc[16000:, 1:18], df.iloc[16000:, 0]\n",
        "print(X_test)\n"
      ],
      "metadata": {
        "colab": {
          "base_uri": "https://localhost:8080/"
        },
        "id": "PziDqSkF1pc7",
        "outputId": "a518f2b2-3349-4ab7-a738-9e5cb3b6595e"
      },
      "execution_count": null,
      "outputs": [
        {
          "output_type": "stream",
          "name": "stdout",
          "text": [
            "          BMI  Smoking  AlcoholDrinking  Stroke  PhysicalHealth  MentalHealth  \\\n",
            "16000   26.66        1                0       1               0             0   \n",
            "16001   26.63        1                0       0               0             0   \n",
            "16002   41.25        1                0       0               0             0   \n",
            "16003   39.87        0                0       0               0             5   \n",
            "16004   26.63        0                0       0               0             0   \n",
            "...       ...      ...              ...     ...             ...           ...   \n",
            "319790  27.41        1                0       0               7             0   \n",
            "319791  29.84        1                0       0               0             0   \n",
            "319792  24.24        0                0       0               0             0   \n",
            "319793  32.81        0                0       0               0             0   \n",
            "319794  46.56        0                0       0               0             0   \n",
            "\n",
            "        DiffWalking  Sex  AgeCategory  Race  Diabetic  PhysicalActivity  \\\n",
            "16000             0    1           12     1         1                 1   \n",
            "16001             0    2           12     1         1                 1   \n",
            "16002             0    2            9     1         0                 0   \n",
            "16003             0    1            7     1         0                 1   \n",
            "16004             0    2           13     1         0                 1   \n",
            "...             ...  ...          ...   ...       ...               ...   \n",
            "319790            1    2            9     4         1                 0   \n",
            "319791            0    2            4     4         0                 1   \n",
            "319792            0    1            6     4         0                 1   \n",
            "319793            0    1            2     4         0                 0   \n",
            "319794            0    1           13     4         0                 1   \n",
            "\n",
            "        GenHealth  SleepTime  Asthma  KidneyDisease  SkinCancer  \n",
            "16000           3          8       0              0           1  \n",
            "16001           5          8       0              1           0  \n",
            "16002           2          7       0              0           0  \n",
            "16003           2          7       0              0           0  \n",
            "16004           3          9       0              0           0  \n",
            "...           ...        ...     ...            ...         ...  \n",
            "319790          4          6       1              0           0  \n",
            "319791          2          5       1              0           0  \n",
            "319792          3          6       0              0           0  \n",
            "319793          3         12       0              0           0  \n",
            "319794          3          8       0              0           0  \n",
            "\n",
            "[303795 rows x 17 columns]\n"
          ]
        }
      ]
    },
    {
      "cell_type": "code",
      "source": [
        "\n",
        "# Normalizar los datos de prueba X_test\n",
        "X_test_norm, mu, sigma = featureNormalize(X_test)\n",
        "\n",
        "# Agregar una columna de unos correspondiente al término de intercepción\n",
        "m, n = X_test_norm.shape\n",
        "X_test_norm = np.concatenate([np.ones((m, 1)), X_test_norm], axis=1)\n",
        "\n",
        "aprueba = sigmoid(X_test_norm.dot(theta))\n",
        "\n",
        "# Imprimir la salida del modelo\n",
        "print(aprueba)"
      ],
      "metadata": {
        "colab": {
          "base_uri": "https://localhost:8080/"
        },
        "id": "dWgvq4HHXThp",
        "outputId": "5fa1dc09-d633-4b42-be64-9d06145fd065"
      },
      "execution_count": null,
      "outputs": [
        {
          "output_type": "stream",
          "name": "stdout",
          "text": [
            "[0.46166108 0.43898867 0.17399908 ... 0.0975956  0.088563   0.15027808]\n"
          ]
        }
      ]
    },
    {
      "cell_type": "code",
      "source": [
        "print(X_test_norm)\n",
        "print(\"THETAS\")\n",
        "print(theta)\n",
        "print(\"PREDICt\")\n",
        "predict =sigmoid(X_test_norm.dot(theta))\n",
        "print(predict)\n"
      ],
      "metadata": {
        "colab": {
          "base_uri": "https://localhost:8080/"
        },
        "id": "NUcJI-T5Hi7h",
        "outputId": "acc5653a-1a49-4d6b-e58e-d8a5aa93e81c"
      },
      "execution_count": null,
      "outputs": [
        {
          "output_type": "stream",
          "name": "stdout",
          "text": [
            "[[ 1.         -0.26139538  1.19659457 ... -0.39262324 -0.19466656\n",
            "   3.14011048]\n",
            " [ 1.         -0.2661174   1.19659457 ... -0.39262324  5.13698924\n",
            "  -0.31846013]\n",
            " [ 1.          2.03508187  1.19659457 ... -0.39262324 -0.19466656\n",
            "  -0.31846013]\n",
            " ...\n",
            " [ 1.         -0.64230525 -0.83570495 ... -0.39262324 -0.19466656\n",
            "  -0.31846013]\n",
            " [ 1.          0.70661936 -0.83570495 ... -0.39262324 -0.19466656\n",
            "  -0.31846013]\n",
            " [ 1.          2.87087997 -0.83570495 ... -0.39262324 -0.19466656\n",
            "  -0.31846013]]\n",
            "THETAS\n",
            "[-1.72889013e+00 -8.02825325e-04  7.56535523e-02 -2.02547912e-02\n",
            "  1.75933912e-01  9.13437774e-02 -4.91641293e-03  9.75304059e-02\n",
            "  1.34064437e-01  2.42952701e-01 -4.08121389e-02  1.05864093e-01\n",
            " -4.72453159e-02  1.90298908e-01  1.26837937e-02  2.23705107e-02\n",
            "  8.41794174e-02  7.16439856e-02]\n",
            "PREDICt\n",
            "[0.46166108 0.43898867 0.17399908 ... 0.0975956  0.088563   0.15027808]\n"
          ]
        }
      ]
    }
  ]
}