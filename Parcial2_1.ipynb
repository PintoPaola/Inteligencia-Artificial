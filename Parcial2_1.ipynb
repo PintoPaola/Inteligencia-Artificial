{
  "cells": [
    {
      "cell_type": "markdown",
      "metadata": {
        "id": "view-in-github",
        "colab_type": "text"
      },
      "source": [
        "<a href=\"https://colab.research.google.com/github/PintoPaola/Inteligencia-Artificial/blob/main/Parcial2_1.ipynb\" target=\"_parent\"><img src=\"https://colab.research.google.com/assets/colab-badge.svg\" alt=\"Open In Colab\"/></a>"
      ]
    },
    {
      "cell_type": "markdown",
      "metadata": {
        "id": "ElTKburZBXO_"
      },
      "source": [
        "### **ML - Aprendizaje No Supervisado**\n",
        "Información sobre el dataset\n",
        "Dataset:https://www.kaggle.com/datasets/edumagalhaes/quality-prediction-in-a-mining-process\n",
        "Github: Dataset:\n",
        "\n",
        "Estudiantes:\n",
        "Pinto Mamani Paola Andrea Ing. de Sistemas\n",
        "\n",
        "**Predicción de la Calidad en un Proceso Minero**\n",
        "\n",
        "El objetivo principal es utilizar estos datos para predecir cuánta impureza hay en el concentrado de mineral. Como esta impureza se mide cada hora, si podemos predecir cuánta sílice (impureza) hay en el concentrado de mineral, podemos ayudar a los ingenieros, brindándoles información temprana para tomar medidas (¡empoderamiento!). Por lo tanto, podrán tomar acciones correctivas con anticipación (reducir las impurezas, si es el caso) y también ayudar al medio ambiente (reducir la cantidad de mineral que va a los relaves a medida que se reduce la sílice en el concentrado de mineral)"
      ]
    },
    {
      "cell_type": "markdown",
      "metadata": {
        "id": "PKhj8rKDEbvX"
      },
      "source": [
        "## LIMPIEZA DE DATASET"
      ]
    },
    {
      "cell_type": "code",
      "execution_count": 269,
      "metadata": {
        "colab": {
          "base_uri": "https://localhost:8080/"
        },
        "id": "uRbyKH9CBOUj",
        "outputId": "39469ac7-700c-4bf9-c540-ccd02e07ecbb"
      },
      "outputs": [
        {
          "output_type": "stream",
          "name": "stdout",
          "text": [
            "Drive already mounted at /content/gdrive; to attempt to forcibly remount, call drive.mount(\"/content/gdrive\", force_remount=True).\n"
          ]
        }
      ],
      "source": [
        "from google.colab import drive\n",
        "drive.mount('/content/gdrive')\n"
      ]
    },
    {
      "cell_type": "code",
      "execution_count": 270,
      "metadata": {
        "id": "pLipGhVhEgm9"
      },
      "outputs": [],
      "source": [
        "import pandas as pd"
      ]
    },
    {
      "cell_type": "code",
      "execution_count": 271,
      "metadata": {
        "colab": {
          "base_uri": "https://localhost:8080/"
        },
        "id": "z8LErSM2Emkh",
        "outputId": "4c806d49-ecd0-457e-e44c-17515fd5e9d8"
      },
      "outputs": [
        {
          "output_type": "stream",
          "name": "stdout",
          "text": [
            "                       date % Iron Feed % Silica Feed Starch Flow Amina Flow  \\\n",
            "0       2017-03-10 01:00:00        55,2         16,98     3019,53    557,434   \n",
            "1       2017-03-10 01:00:00        55,2         16,98     3024,41    563,965   \n",
            "2       2017-03-10 01:00:00        55,2         16,98     3043,46    568,054   \n",
            "3       2017-03-10 01:00:00        55,2         16,98     3047,36    568,665   \n",
            "4       2017-03-10 01:00:00        55,2         16,98     3033,69    558,167   \n",
            "...                     ...         ...           ...         ...        ...   \n",
            "737448  2017-09-09 23:00:00       49,75          23,2     2710,94    441,052   \n",
            "737449  2017-09-09 23:00:00       49,75          23,2     2692,01    473,436   \n",
            "737450  2017-09-09 23:00:00       49,75          23,2      2692,2    500,488   \n",
            "737451  2017-09-09 23:00:00       49,75          23,2     1164,12    491,548   \n",
            "737452  2017-09-09 23:00:00       49,75          23,2     1164,12    468,019   \n",
            "\n",
            "       Ore Pulp Flow Ore Pulp pH Ore Pulp Density  \\\n",
            "0            395,713     10,0664             1,74   \n",
            "1            397,383     10,0672             1,74   \n",
            "2            399,668      10,068             1,74   \n",
            "3            397,939     10,0689             1,74   \n",
            "4            400,254     10,0697             1,74   \n",
            "...              ...         ...              ...   \n",
            "737448        386,57     9,62129          1,65365   \n",
            "737449       384,939     9,62063          1,65352   \n",
            "737450       383,496     9,61874          1,65338   \n",
            "737451       384,976     9,61686          1,65324   \n",
            "737452       384,801     9,61497           1,6531   \n",
            "\n",
            "       Flotation Column 01 Air Flow Flotation Column 02 Air Flow  ...  \\\n",
            "0                           249,214                      253,235  ...   \n",
            "1                           249,719                      250,532  ...   \n",
            "2                           249,741                      247,874  ...   \n",
            "3                           249,917                      254,487  ...   \n",
            "4                           250,203                      252,136  ...   \n",
            "...                             ...                          ...  ...   \n",
            "737448                      302,344                      298,786  ...   \n",
            "737449                      303,013                      301,879  ...   \n",
            "737450                      303,662                      307,397  ...   \n",
            "737451                       302,55                      301,959  ...   \n",
            "737452                      300,355                      292,865  ...   \n",
            "\n",
            "       Flotation Column 07 Air Flow Flotation Column 01 Level  \\\n",
            "0                           250,884                   457,396   \n",
            "1                           248,994                   451,891   \n",
            "2                           248,071                    451,24   \n",
            "3                           251,147                   452,441   \n",
            "4                           248,928                   452,441   \n",
            "...                             ...                       ...   \n",
            "737448                      313,695                    392,16   \n",
            "737449                        236,7                   401,505   \n",
            "737450                      225,879                   408,899   \n",
            "737451                      308,115                   405,107   \n",
            "737452                      308,115                   413,754   \n",
            "\n",
            "       Flotation Column 02 Level Flotation Column 03 Level  \\\n",
            "0                        432,962                   424,954   \n",
            "1                         429,56                   432,939   \n",
            "2                        468,927                    434,61   \n",
            "3                        458,165                   442,865   \n",
            "4                          452,9                   450,523   \n",
            "...                          ...                       ...   \n",
            "737448                   430,702                   872,008   \n",
            "737449                   404,616                   864,409   \n",
            "737450                   399,316                   867,598   \n",
            "737451                   466,832                   876,591   \n",
            "737452                   514,143                   881,323   \n",
            "\n",
            "       Flotation Column 04 Level Flotation Column 05 Level  \\\n",
            "0                        443,558                   502,255   \n",
            "1                        448,086                   496,363   \n",
            "2                        449,688                   484,411   \n",
            "3                         446,21                   471,411   \n",
            "4                         453,67                   462,598   \n",
            "...                          ...                       ...   \n",
            "737448                   418,725                   497,548   \n",
            "737449                   418,377                   506,398   \n",
            "737450                   419,531                   503,414   \n",
            "737451                   407,299                   502,301   \n",
            "737452                   378,969                     500,1   \n",
            "\n",
            "       Flotation Column 06 Level Flotation Column 07 Level % Iron Concentrate  \\\n",
            "0                         446,37                   523,344              66,91   \n",
            "1                        445,922                   498,075              66,91   \n",
            "2                        447,826                   458,567              66,91   \n",
            "3                         437,69                   427,669              66,91   \n",
            "4                        443,682                   425,679              66,91   \n",
            "...                          ...                       ...                ...   \n",
            "737448                   446,357                   416,892              64,27   \n",
            "737449                   372,995                   426,337              64,27   \n",
            "737450                   336,035                    433,13              64,27   \n",
            "737451                   340,844                   433,966              64,27   \n",
            "737452                   374,354                   441,182              64,27   \n",
            "\n",
            "       % Silica Concentrate  \n",
            "0                      1,31  \n",
            "1                      1,31  \n",
            "2                      1,31  \n",
            "3                      1,31  \n",
            "4                      1,31  \n",
            "...                     ...  \n",
            "737448                 1,71  \n",
            "737449                 1,71  \n",
            "737450                 1,71  \n",
            "737451                 1,71  \n",
            "737452                 1,71  \n",
            "\n",
            "[737453 rows x 24 columns]\n"
          ]
        }
      ],
      "source": [
        "data = pd.read_csv(\"/content/gdrive/MyDrive/IA/DATASET/MiningProcess_Flotation_Plant_Database.csv\", sep=\",\")\n",
        "print(data)"
      ]
    },
    {
      "cell_type": "markdown",
      "metadata": {
        "id": "IvE7MW_IFFsc"
      },
      "source": [
        "Comprobamos si existen valores nulos"
      ]
    },
    {
      "cell_type": "code",
      "execution_count": 272,
      "metadata": {
        "colab": {
          "base_uri": "https://localhost:8080/"
        },
        "id": "g4BIJMHdE_bi",
        "outputId": "92f817e2-13ac-4f52-a544-5b04fc285837"
      },
      "outputs": [
        {
          "output_type": "stream",
          "name": "stdout",
          "text": [
            "date                            False\n",
            "% Iron Feed                     False\n",
            "% Silica Feed                   False\n",
            "Starch Flow                     False\n",
            "Amina Flow                      False\n",
            "Ore Pulp Flow                   False\n",
            "Ore Pulp pH                     False\n",
            "Ore Pulp Density                False\n",
            "Flotation Column 01 Air Flow    False\n",
            "Flotation Column 02 Air Flow    False\n",
            "Flotation Column 03 Air Flow    False\n",
            "Flotation Column 04 Air Flow    False\n",
            "Flotation Column 05 Air Flow    False\n",
            "Flotation Column 06 Air Flow    False\n",
            "Flotation Column 07 Air Flow    False\n",
            "Flotation Column 01 Level       False\n",
            "Flotation Column 02 Level       False\n",
            "Flotation Column 03 Level       False\n",
            "Flotation Column 04 Level       False\n",
            "Flotation Column 05 Level       False\n",
            "Flotation Column 06 Level       False\n",
            "Flotation Column 07 Level       False\n",
            "% Iron Concentrate              False\n",
            "% Silica Concentrate            False\n",
            "dtype: bool\n"
          ]
        }
      ],
      "source": [
        "print(data.isnull().any())"
      ]
    },
    {
      "cell_type": "markdown",
      "metadata": {
        "id": "JMu7dheWFKRp"
      },
      "source": [
        "Comprobamos si existen valores no numéricos"
      ]
    },
    {
      "cell_type": "code",
      "execution_count": 273,
      "metadata": {
        "colab": {
          "base_uri": "https://localhost:8080/"
        },
        "id": "3Bm79dKfFLZ6",
        "outputId": "41bf0d72-7e99-4c60-da04-b7c8963e0ad9"
      },
      "outputs": [
        {
          "output_type": "stream",
          "name": "stdout",
          "text": [
            "Valores no numéricos en las columnas:\n",
            "date                            True\n",
            "% Iron Feed                     True\n",
            "% Silica Feed                   True\n",
            "Starch Flow                     True\n",
            "Amina Flow                      True\n",
            "Ore Pulp Flow                   True\n",
            "Ore Pulp pH                     True\n",
            "Ore Pulp Density                True\n",
            "Flotation Column 01 Air Flow    True\n",
            "Flotation Column 02 Air Flow    True\n",
            "Flotation Column 03 Air Flow    True\n",
            "Flotation Column 04 Air Flow    True\n",
            "Flotation Column 05 Air Flow    True\n",
            "Flotation Column 06 Air Flow    True\n",
            "Flotation Column 07 Air Flow    True\n",
            "Flotation Column 01 Level       True\n",
            "Flotation Column 02 Level       True\n",
            "Flotation Column 03 Level       True\n",
            "Flotation Column 04 Level       True\n",
            "Flotation Column 05 Level       True\n",
            "Flotation Column 06 Level       True\n",
            "Flotation Column 07 Level       True\n",
            "% Iron Concentrate              True\n",
            "% Silica Concentrate            True\n",
            "dtype: bool\n"
          ]
        }
      ],
      "source": [
        "# Verificar si hay valores no numéricos\n",
        "non_numeric_columns = data.apply(lambda x: pd.to_numeric(x, errors='coerce')).isnull().any()\n",
        "print(\"Valores no numéricos en las columnas:\")\n",
        "print(non_numeric_columns)"
      ]
    },
    {
      "cell_type": "code",
      "execution_count": 274,
      "metadata": {
        "id": "16_fRK-vRBNK"
      },
      "outputs": [],
      "source": [
        "##data = data.applymap(pd.to_numeric, errors='ignore')"
      ]
    },
    {
      "cell_type": "code",
      "execution_count": 275,
      "metadata": {
        "id": "9-mz6ZRNYNlY"
      },
      "outputs": [],
      "source": [
        "data['date'] = pd.to_datetime(data['date']).astype('int64')"
      ]
    },
    {
      "cell_type": "code",
      "execution_count": 276,
      "metadata": {
        "colab": {
          "base_uri": "https://localhost:8080/"
        },
        "id": "aC1-0R6_Y1Yh",
        "outputId": "a5a00295-05f5-4042-bd04-6faaa4666f49"
      },
      "outputs": [
        {
          "output_type": "execute_result",
          "data": {
            "text/plain": [
              "array([1489107600000000000, 1489111200000000000, 1489114800000000000, ...,\n",
              "       1504990800000000000, 1504994400000000000, 1504998000000000000])"
            ]
          },
          "metadata": {},
          "execution_count": 276
        }
      ],
      "source": [
        "#analizamos los valores contenidos dentro del mes\n",
        "data['date'].unique()"
      ]
    },
    {
      "cell_type": "code",
      "execution_count": 277,
      "metadata": {
        "id": "ELfhokylJvC6"
      },
      "outputs": [],
      "source": [
        "# Reemplazar la coma con un punto y convertir a float\n",
        "# Asegúrate de que la columna '% Iron Feed' sea de tipo string antes de usar .str\n",
        "data['% Iron Feed'] = data['% Iron Feed'].astype(str).str.replace(',', '.').astype(float)"
      ]
    },
    {
      "cell_type": "code",
      "execution_count": 278,
      "metadata": {
        "id": "vvQeIOGcKha8"
      },
      "outputs": [],
      "source": [
        "data['Starch Flow'] = data['Starch Flow'].astype(str).str.replace(',', '.').astype(float)\n",
        "data['Amina Flow'] = data['Amina Flow'].astype(str).str.replace(',', '.').astype(float)\n",
        "data['% Silica Feed'] = data['% Silica Feed'].astype(str).str.replace(',', '.').astype(float)\n",
        "data['Ore Pulp Flow'] = data['Ore Pulp Flow'].astype(str).str.replace(',', '.').astype(float)\n",
        "data['Ore Pulp pH'] = data['Ore Pulp pH'].astype(str).str.replace(',', '.').astype(float)\n",
        "data['Ore Pulp Density'] = data['Ore Pulp Density'].astype(str).str.replace(',', '.').astype(float)\n",
        "data['Flotation Column 01 Air Flow'] = data['Flotation Column 01 Air Flow'].astype(str).str.replace(',', '.').astype(float)\n",
        "data['Flotation Column 02 Air Flow'] = data['Flotation Column 02 Air Flow'].astype(str).str.replace(',', '.').astype(float)\n",
        "data['Flotation Column 03 Air Flow'] = data['Flotation Column 03 Air Flow'].astype(str).str.replace(',', '.').astype(float)\n",
        "data['Flotation Column 04 Air Flow'] = data['Flotation Column 04 Air Flow'].astype(str).str.replace(',', '.').astype(float)\n",
        "data['Flotation Column 05 Air Flow'] = data['Flotation Column 05 Air Flow'].astype(str).str.replace(',', '.').astype(float)\n",
        "data['Flotation Column 06 Air Flow'] = data['Flotation Column 06 Air Flow'].astype(str).str.replace(',', '.').astype(float)\n",
        "data['Flotation Column 07 Air Flow'] = data['Flotation Column 07 Air Flow'].astype(str).str.replace(',', '.').astype(float)\n",
        "data['Flotation Column 01 Level'] = data['Flotation Column 01 Level'].astype(str).str.replace(',', '.').astype(float)\n",
        "data['Flotation Column 02 Level'] = data['Flotation Column 02 Level'].astype(str).str.replace(',', '.').astype(float)\n",
        "data['Flotation Column 03 Level'] = data['Flotation Column 03 Level'].astype(str).str.replace(',', '.').astype(float)\n",
        "data['Flotation Column 04 Level'] = data['Flotation Column 04 Level'].astype(str).str.replace(',', '.').astype(float)\n",
        "data['Flotation Column 05 Level'] = data['Flotation Column 05 Level'].astype(str).str.replace(',', '.').astype(float)\n",
        "data['Flotation Column 06 Level'] = data['Flotation Column 06 Level'].astype(str).str.replace(',', '.').astype(float)\n",
        "data['Flotation Column 07 Level'] = data['Flotation Column 07 Level'].astype(str).str.replace(',', '.').astype(float)\n",
        "\n"
      ]
    },
    {
      "cell_type": "code",
      "execution_count": 279,
      "metadata": {
        "id": "2upt7l_ga0qX"
      },
      "outputs": [],
      "source": [
        "data['% Iron Concentrate'] = data['% Iron Concentrate'].astype(str).str.replace(',', '.').astype(float)\n",
        "data['% Silica Concentrate'] = data['% Silica Concentrate'].astype(str).str.replace(',', '.').astype(float)"
      ]
    },
    {
      "cell_type": "code",
      "execution_count": 280,
      "metadata": {
        "colab": {
          "base_uri": "https://localhost:8080/"
        },
        "id": "POKZ_ORDVdcv",
        "outputId": "14420d55-5cf8-4180-b156-cf53163dede9"
      },
      "outputs": [
        {
          "output_type": "execute_result",
          "data": {
            "text/plain": [
              "array([557.434, 563.965, 568.054, ..., 452.492, 466.423, 473.436])"
            ]
          },
          "metadata": {},
          "execution_count": 280
        }
      ],
      "source": [
        "#analizamos los valores contenidos dentro del mes\n",
        "data['Amina Flow'].unique()"
      ]
    },
    {
      "cell_type": "code",
      "execution_count": 281,
      "metadata": {
        "colab": {
          "base_uri": "https://localhost:8080/"
        },
        "id": "GxOeRAaXJFAv",
        "outputId": "468f01ce-dfb0-4506-b9aa-c7cbb0b1c8cf"
      },
      "outputs": [
        {
          "output_type": "stream",
          "name": "stdout",
          "text": [
            "Valores no numéricos en las columnas:\n",
            "date                            False\n",
            "% Iron Feed                     False\n",
            "% Silica Feed                   False\n",
            "Starch Flow                     False\n",
            "Amina Flow                      False\n",
            "Ore Pulp Flow                   False\n",
            "Ore Pulp pH                     False\n",
            "Ore Pulp Density                False\n",
            "Flotation Column 01 Air Flow    False\n",
            "Flotation Column 02 Air Flow    False\n",
            "Flotation Column 03 Air Flow    False\n",
            "Flotation Column 04 Air Flow    False\n",
            "Flotation Column 05 Air Flow    False\n",
            "Flotation Column 06 Air Flow    False\n",
            "Flotation Column 07 Air Flow    False\n",
            "Flotation Column 01 Level       False\n",
            "Flotation Column 02 Level       False\n",
            "Flotation Column 03 Level       False\n",
            "Flotation Column 04 Level       False\n",
            "Flotation Column 05 Level       False\n",
            "Flotation Column 06 Level       False\n",
            "Flotation Column 07 Level       False\n",
            "% Iron Concentrate              False\n",
            "% Silica Concentrate            False\n",
            "dtype: bool\n"
          ]
        }
      ],
      "source": [
        "# Verificar si hay valores no numéricos\n",
        "non_numeric_columns = data.apply(lambda x: pd.to_numeric(x, errors='coerce')).isnull().any()\n",
        "print(\"Valores no numéricos en las columnas:\")\n",
        "print(non_numeric_columns)"
      ]
    },
    {
      "cell_type": "code",
      "execution_count": 282,
      "metadata": {
        "id": "I637Zu5mFZB9"
      },
      "outputs": [],
      "source": [
        "import numpy as np"
      ]
    },
    {
      "cell_type": "code",
      "execution_count": 283,
      "metadata": {
        "id": "qNNBxXN7Fb1-"
      },
      "outputs": [],
      "source": [
        "from sklearn.datasets import fetch_openml\n",
        "from sklearn.model_selection import train_test_split\n",
        "import numpy as np\n",
        "\n",
        "X = data.values\n",
        "test = X.shape[0]*0.8\n",
        "test = round(test)\n",
        "\n",
        "X_test = X[test:,:]\n",
        "X_train = X[:test,:]"
      ]
    },
    {
      "cell_type": "code",
      "execution_count": 284,
      "metadata": {
        "id": "am35FCPfSw8R"
      },
      "outputs": [],
      "source": [
        "def  featureNormalize(X):\n",
        "    X_norm = X.copy()\n",
        "    mu = np.zeros(X.shape[1])\n",
        "    sigma = np.zeros(X.shape[1])\n",
        "\n",
        "    mu = np.mean(X, axis = 0)\n",
        "    sigma = np.std(X, axis = 0)\n",
        "    X_norm = (X - mu) / sigma\n",
        "\n",
        "    return X_norm, mu, sigma\n",
        "\n",
        "X_train, mu, sigma = featureNormalize(X_train)\n",
        "\n",
        "def  testNormalize(X, mu, sigma):\n",
        "    X_norm = X.copy()\n",
        "    X_norm = (X - mu) / sigma\n",
        "    m, n = X_norm.shape\n",
        "    return X_norm\n",
        "\n",
        "X_test = testNormalize(X_test, mu, sigma)"
      ]
    },
    {
      "cell_type": "code",
      "execution_count": 285,
      "metadata": {
        "colab": {
          "base_uri": "https://localhost:8080/",
          "height": 384
        },
        "id": "gA5HKSGCr771",
        "outputId": "97be9262-56b5-4252-ddc6-ea10ccf3ac20"
      },
      "outputs": [
        {
          "output_type": "execute_result",
          "data": {
            "text/plain": [
              "                date    % Iron Feed  % Silica Feed    Starch Flow  \\\n",
              "count  737453.000000  737453.000000  737453.000000  737453.000000   \n",
              "mean        0.533407       0.588313       0.415759       0.455402   \n",
              "std         0.272612       0.223860       0.212136       0.192883   \n",
              "min         0.000000       0.000000       0.000000       0.000000   \n",
              "25%         0.304033       0.430990       0.237769       0.329562   \n",
              "50%         0.536022       0.578993       0.390776       0.479098   \n",
              "75%         0.768011       0.736979       0.569959       0.591681   \n",
              "max         1.000000       1.000000       1.000000       1.000000   \n",
              "\n",
              "          Amina Flow  Ore Pulp Flow    Ore Pulp pH  Ore Pulp Density  \\\n",
              "count  737453.000000  737453.000000  737453.000000     737453.000000   \n",
              "mean        0.495061       0.503146       0.493634          0.481539   \n",
              "std         0.183242       0.228812       0.188347          0.207686   \n",
              "min         0.000000       0.000000       0.000000          0.000000   \n",
              "25%         0.381882       0.424962       0.376696          0.382359   \n",
              "50%         0.527697       0.542555       0.508458          0.533185   \n",
              "75%         0.625843       0.630284       0.625212          0.625349   \n",
              "max         1.000000       1.000000       1.000000          1.000000   \n",
              "\n",
              "       Flotation Column 01 Air Flow  Flotation Column 02 Air Flow  ...  \\\n",
              "count                 737453.000000                 737453.000000  ...   \n",
              "mean                       0.527532                      0.507897  ...   \n",
              "std                        0.149330                      0.150119  ...   \n",
              "min                        0.000000                      0.000000  ...   \n",
              "25%                        0.376944                      0.374938  ...   \n",
              "50%                        0.624286                      0.602815  ...   \n",
              "75%                        0.628344                      0.625057  ...   \n",
              "max                        1.000000                      1.000000  ...   \n",
              "\n",
              "       Flotation Column 07 Air Flow  Flotation Column 01 Level  \\\n",
              "count                 737453.000000              737453.000000   \n",
              "mean                       0.564522                   0.520333   \n",
              "std                        0.154447                   0.183737   \n",
              "min                        0.000000                   0.000000   \n",
              "25%                        0.378924                   0.375510   \n",
              "50%                        0.608998                   0.480551   \n",
              "75%                        0.624583                   0.623929   \n",
              "max                        1.000000                   1.000000   \n",
              "\n",
              "       Flotation Column 02 Level  Flotation Column 03 Level  \\\n",
              "count              737453.000000              737453.000000   \n",
              "mean                    0.504552                   0.532626   \n",
              "std                     0.207331                   0.198329   \n",
              "min                     0.000000                   0.000000   \n",
              "25%                     0.373897                   0.374812   \n",
              "50%                     0.461370                   0.483932   \n",
              "75%                     0.622343                   0.624526   \n",
              "max                     1.000000                   1.000000   \n",
              "\n",
              "       Flotation Column 04 Level  Flotation Column 05 Level  \\\n",
              "count              737453.000000              737453.000000   \n",
              "mean                    0.498149                   0.507735   \n",
              "std                     0.177155                   0.166195   \n",
              "min                     0.000000                   0.000000   \n",
              "25%                     0.375326                   0.374837   \n",
              "50%                     0.482040                   0.475338   \n",
              "75%                     0.624034                   0.623879   \n",
              "max                     1.000000                   1.000000   \n",
              "\n",
              "       Flotation Column 06 Level  Flotation Column 07 Level  \\\n",
              "count              737453.000000              737453.000000   \n",
              "mean                    0.504770                   0.507008   \n",
              "std                     0.165486                   0.175195   \n",
              "min                     0.000000                   0.000000   \n",
              "25%                     0.373202                   0.374413   \n",
              "50%                     0.495053                   0.486461   \n",
              "75%                     0.620314                   0.621430   \n",
              "max                     1.000000                   1.000000   \n",
              "\n",
              "       % Iron Concentrate  % Silica Concentrate  \n",
              "count       737453.000000         737453.000000  \n",
              "mean             0.503367              0.350256  \n",
              "std              0.187692              0.228307  \n",
              "min              0.000000              0.000000  \n",
              "25%              0.389262              0.170385  \n",
              "50%              0.530201              0.283976  \n",
              "75%              0.639262              0.488844  \n",
              "max              1.000000              1.000000  \n",
              "\n",
              "[8 rows x 24 columns]"
            ],
            "text/html": [
              "\n",
              "  <div id=\"df-c231d1ab-62f3-45c7-b5de-1fbc4ac5d38b\" class=\"colab-df-container\">\n",
              "    <div>\n",
              "<style scoped>\n",
              "    .dataframe tbody tr th:only-of-type {\n",
              "        vertical-align: middle;\n",
              "    }\n",
              "\n",
              "    .dataframe tbody tr th {\n",
              "        vertical-align: top;\n",
              "    }\n",
              "\n",
              "    .dataframe thead th {\n",
              "        text-align: right;\n",
              "    }\n",
              "</style>\n",
              "<table border=\"1\" class=\"dataframe\">\n",
              "  <thead>\n",
              "    <tr style=\"text-align: right;\">\n",
              "      <th></th>\n",
              "      <th>date</th>\n",
              "      <th>% Iron Feed</th>\n",
              "      <th>% Silica Feed</th>\n",
              "      <th>Starch Flow</th>\n",
              "      <th>Amina Flow</th>\n",
              "      <th>Ore Pulp Flow</th>\n",
              "      <th>Ore Pulp pH</th>\n",
              "      <th>Ore Pulp Density</th>\n",
              "      <th>Flotation Column 01 Air Flow</th>\n",
              "      <th>Flotation Column 02 Air Flow</th>\n",
              "      <th>...</th>\n",
              "      <th>Flotation Column 07 Air Flow</th>\n",
              "      <th>Flotation Column 01 Level</th>\n",
              "      <th>Flotation Column 02 Level</th>\n",
              "      <th>Flotation Column 03 Level</th>\n",
              "      <th>Flotation Column 04 Level</th>\n",
              "      <th>Flotation Column 05 Level</th>\n",
              "      <th>Flotation Column 06 Level</th>\n",
              "      <th>Flotation Column 07 Level</th>\n",
              "      <th>% Iron Concentrate</th>\n",
              "      <th>% Silica Concentrate</th>\n",
              "    </tr>\n",
              "  </thead>\n",
              "  <tbody>\n",
              "    <tr>\n",
              "      <th>count</th>\n",
              "      <td>737453.000000</td>\n",
              "      <td>737453.000000</td>\n",
              "      <td>737453.000000</td>\n",
              "      <td>737453.000000</td>\n",
              "      <td>737453.000000</td>\n",
              "      <td>737453.000000</td>\n",
              "      <td>737453.000000</td>\n",
              "      <td>737453.000000</td>\n",
              "      <td>737453.000000</td>\n",
              "      <td>737453.000000</td>\n",
              "      <td>...</td>\n",
              "      <td>737453.000000</td>\n",
              "      <td>737453.000000</td>\n",
              "      <td>737453.000000</td>\n",
              "      <td>737453.000000</td>\n",
              "      <td>737453.000000</td>\n",
              "      <td>737453.000000</td>\n",
              "      <td>737453.000000</td>\n",
              "      <td>737453.000000</td>\n",
              "      <td>737453.000000</td>\n",
              "      <td>737453.000000</td>\n",
              "    </tr>\n",
              "    <tr>\n",
              "      <th>mean</th>\n",
              "      <td>0.533407</td>\n",
              "      <td>0.588313</td>\n",
              "      <td>0.415759</td>\n",
              "      <td>0.455402</td>\n",
              "      <td>0.495061</td>\n",
              "      <td>0.503146</td>\n",
              "      <td>0.493634</td>\n",
              "      <td>0.481539</td>\n",
              "      <td>0.527532</td>\n",
              "      <td>0.507897</td>\n",
              "      <td>...</td>\n",
              "      <td>0.564522</td>\n",
              "      <td>0.520333</td>\n",
              "      <td>0.504552</td>\n",
              "      <td>0.532626</td>\n",
              "      <td>0.498149</td>\n",
              "      <td>0.507735</td>\n",
              "      <td>0.504770</td>\n",
              "      <td>0.507008</td>\n",
              "      <td>0.503367</td>\n",
              "      <td>0.350256</td>\n",
              "    </tr>\n",
              "    <tr>\n",
              "      <th>std</th>\n",
              "      <td>0.272612</td>\n",
              "      <td>0.223860</td>\n",
              "      <td>0.212136</td>\n",
              "      <td>0.192883</td>\n",
              "      <td>0.183242</td>\n",
              "      <td>0.228812</td>\n",
              "      <td>0.188347</td>\n",
              "      <td>0.207686</td>\n",
              "      <td>0.149330</td>\n",
              "      <td>0.150119</td>\n",
              "      <td>...</td>\n",
              "      <td>0.154447</td>\n",
              "      <td>0.183737</td>\n",
              "      <td>0.207331</td>\n",
              "      <td>0.198329</td>\n",
              "      <td>0.177155</td>\n",
              "      <td>0.166195</td>\n",
              "      <td>0.165486</td>\n",
              "      <td>0.175195</td>\n",
              "      <td>0.187692</td>\n",
              "      <td>0.228307</td>\n",
              "    </tr>\n",
              "    <tr>\n",
              "      <th>min</th>\n",
              "      <td>0.000000</td>\n",
              "      <td>0.000000</td>\n",
              "      <td>0.000000</td>\n",
              "      <td>0.000000</td>\n",
              "      <td>0.000000</td>\n",
              "      <td>0.000000</td>\n",
              "      <td>0.000000</td>\n",
              "      <td>0.000000</td>\n",
              "      <td>0.000000</td>\n",
              "      <td>0.000000</td>\n",
              "      <td>...</td>\n",
              "      <td>0.000000</td>\n",
              "      <td>0.000000</td>\n",
              "      <td>0.000000</td>\n",
              "      <td>0.000000</td>\n",
              "      <td>0.000000</td>\n",
              "      <td>0.000000</td>\n",
              "      <td>0.000000</td>\n",
              "      <td>0.000000</td>\n",
              "      <td>0.000000</td>\n",
              "      <td>0.000000</td>\n",
              "    </tr>\n",
              "    <tr>\n",
              "      <th>25%</th>\n",
              "      <td>0.304033</td>\n",
              "      <td>0.430990</td>\n",
              "      <td>0.237769</td>\n",
              "      <td>0.329562</td>\n",
              "      <td>0.381882</td>\n",
              "      <td>0.424962</td>\n",
              "      <td>0.376696</td>\n",
              "      <td>0.382359</td>\n",
              "      <td>0.376944</td>\n",
              "      <td>0.374938</td>\n",
              "      <td>...</td>\n",
              "      <td>0.378924</td>\n",
              "      <td>0.375510</td>\n",
              "      <td>0.373897</td>\n",
              "      <td>0.374812</td>\n",
              "      <td>0.375326</td>\n",
              "      <td>0.374837</td>\n",
              "      <td>0.373202</td>\n",
              "      <td>0.374413</td>\n",
              "      <td>0.389262</td>\n",
              "      <td>0.170385</td>\n",
              "    </tr>\n",
              "    <tr>\n",
              "      <th>50%</th>\n",
              "      <td>0.536022</td>\n",
              "      <td>0.578993</td>\n",
              "      <td>0.390776</td>\n",
              "      <td>0.479098</td>\n",
              "      <td>0.527697</td>\n",
              "      <td>0.542555</td>\n",
              "      <td>0.508458</td>\n",
              "      <td>0.533185</td>\n",
              "      <td>0.624286</td>\n",
              "      <td>0.602815</td>\n",
              "      <td>...</td>\n",
              "      <td>0.608998</td>\n",
              "      <td>0.480551</td>\n",
              "      <td>0.461370</td>\n",
              "      <td>0.483932</td>\n",
              "      <td>0.482040</td>\n",
              "      <td>0.475338</td>\n",
              "      <td>0.495053</td>\n",
              "      <td>0.486461</td>\n",
              "      <td>0.530201</td>\n",
              "      <td>0.283976</td>\n",
              "    </tr>\n",
              "    <tr>\n",
              "      <th>75%</th>\n",
              "      <td>0.768011</td>\n",
              "      <td>0.736979</td>\n",
              "      <td>0.569959</td>\n",
              "      <td>0.591681</td>\n",
              "      <td>0.625843</td>\n",
              "      <td>0.630284</td>\n",
              "      <td>0.625212</td>\n",
              "      <td>0.625349</td>\n",
              "      <td>0.628344</td>\n",
              "      <td>0.625057</td>\n",
              "      <td>...</td>\n",
              "      <td>0.624583</td>\n",
              "      <td>0.623929</td>\n",
              "      <td>0.622343</td>\n",
              "      <td>0.624526</td>\n",
              "      <td>0.624034</td>\n",
              "      <td>0.623879</td>\n",
              "      <td>0.620314</td>\n",
              "      <td>0.621430</td>\n",
              "      <td>0.639262</td>\n",
              "      <td>0.488844</td>\n",
              "    </tr>\n",
              "    <tr>\n",
              "      <th>max</th>\n",
              "      <td>1.000000</td>\n",
              "      <td>1.000000</td>\n",
              "      <td>1.000000</td>\n",
              "      <td>1.000000</td>\n",
              "      <td>1.000000</td>\n",
              "      <td>1.000000</td>\n",
              "      <td>1.000000</td>\n",
              "      <td>1.000000</td>\n",
              "      <td>1.000000</td>\n",
              "      <td>1.000000</td>\n",
              "      <td>...</td>\n",
              "      <td>1.000000</td>\n",
              "      <td>1.000000</td>\n",
              "      <td>1.000000</td>\n",
              "      <td>1.000000</td>\n",
              "      <td>1.000000</td>\n",
              "      <td>1.000000</td>\n",
              "      <td>1.000000</td>\n",
              "      <td>1.000000</td>\n",
              "      <td>1.000000</td>\n",
              "      <td>1.000000</td>\n",
              "    </tr>\n",
              "  </tbody>\n",
              "</table>\n",
              "<p>8 rows × 24 columns</p>\n",
              "</div>\n",
              "    <div class=\"colab-df-buttons\">\n",
              "\n",
              "  <div class=\"colab-df-container\">\n",
              "    <button class=\"colab-df-convert\" onclick=\"convertToInteractive('df-c231d1ab-62f3-45c7-b5de-1fbc4ac5d38b')\"\n",
              "            title=\"Convert this dataframe to an interactive table.\"\n",
              "            style=\"display:none;\">\n",
              "\n",
              "  <svg xmlns=\"http://www.w3.org/2000/svg\" height=\"24px\" viewBox=\"0 -960 960 960\">\n",
              "    <path d=\"M120-120v-720h720v720H120Zm60-500h600v-160H180v160Zm220 220h160v-160H400v160Zm0 220h160v-160H400v160ZM180-400h160v-160H180v160Zm440 0h160v-160H620v160ZM180-180h160v-160H180v160Zm440 0h160v-160H620v160Z\"/>\n",
              "  </svg>\n",
              "    </button>\n",
              "\n",
              "  <style>\n",
              "    .colab-df-container {\n",
              "      display:flex;\n",
              "      gap: 12px;\n",
              "    }\n",
              "\n",
              "    .colab-df-convert {\n",
              "      background-color: #E8F0FE;\n",
              "      border: none;\n",
              "      border-radius: 50%;\n",
              "      cursor: pointer;\n",
              "      display: none;\n",
              "      fill: #1967D2;\n",
              "      height: 32px;\n",
              "      padding: 0 0 0 0;\n",
              "      width: 32px;\n",
              "    }\n",
              "\n",
              "    .colab-df-convert:hover {\n",
              "      background-color: #E2EBFA;\n",
              "      box-shadow: 0px 1px 2px rgba(60, 64, 67, 0.3), 0px 1px 3px 1px rgba(60, 64, 67, 0.15);\n",
              "      fill: #174EA6;\n",
              "    }\n",
              "\n",
              "    .colab-df-buttons div {\n",
              "      margin-bottom: 4px;\n",
              "    }\n",
              "\n",
              "    [theme=dark] .colab-df-convert {\n",
              "      background-color: #3B4455;\n",
              "      fill: #D2E3FC;\n",
              "    }\n",
              "\n",
              "    [theme=dark] .colab-df-convert:hover {\n",
              "      background-color: #434B5C;\n",
              "      box-shadow: 0px 1px 3px 1px rgba(0, 0, 0, 0.15);\n",
              "      filter: drop-shadow(0px 1px 2px rgba(0, 0, 0, 0.3));\n",
              "      fill: #FFFFFF;\n",
              "    }\n",
              "  </style>\n",
              "\n",
              "    <script>\n",
              "      const buttonEl =\n",
              "        document.querySelector('#df-c231d1ab-62f3-45c7-b5de-1fbc4ac5d38b button.colab-df-convert');\n",
              "      buttonEl.style.display =\n",
              "        google.colab.kernel.accessAllowed ? 'block' : 'none';\n",
              "\n",
              "      async function convertToInteractive(key) {\n",
              "        const element = document.querySelector('#df-c231d1ab-62f3-45c7-b5de-1fbc4ac5d38b');\n",
              "        const dataTable =\n",
              "          await google.colab.kernel.invokeFunction('convertToInteractive',\n",
              "                                                    [key], {});\n",
              "        if (!dataTable) return;\n",
              "\n",
              "        const docLinkHtml = 'Like what you see? Visit the ' +\n",
              "          '<a target=\"_blank\" href=https://colab.research.google.com/notebooks/data_table.ipynb>data table notebook</a>'\n",
              "          + ' to learn more about interactive tables.';\n",
              "        element.innerHTML = '';\n",
              "        dataTable['output_type'] = 'display_data';\n",
              "        await google.colab.output.renderOutput(dataTable, element);\n",
              "        const docLink = document.createElement('div');\n",
              "        docLink.innerHTML = docLinkHtml;\n",
              "        element.appendChild(docLink);\n",
              "      }\n",
              "    </script>\n",
              "  </div>\n",
              "\n",
              "\n",
              "<div id=\"df-14a5cca5-54ae-4f47-a86b-eebdfe4e1240\">\n",
              "  <button class=\"colab-df-quickchart\" onclick=\"quickchart('df-14a5cca5-54ae-4f47-a86b-eebdfe4e1240')\"\n",
              "            title=\"Suggest charts\"\n",
              "            style=\"display:none;\">\n",
              "\n",
              "<svg xmlns=\"http://www.w3.org/2000/svg\" height=\"24px\"viewBox=\"0 0 24 24\"\n",
              "     width=\"24px\">\n",
              "    <g>\n",
              "        <path d=\"M19 3H5c-1.1 0-2 .9-2 2v14c0 1.1.9 2 2 2h14c1.1 0 2-.9 2-2V5c0-1.1-.9-2-2-2zM9 17H7v-7h2v7zm4 0h-2V7h2v10zm4 0h-2v-4h2v4z\"/>\n",
              "    </g>\n",
              "</svg>\n",
              "  </button>\n",
              "\n",
              "<style>\n",
              "  .colab-df-quickchart {\n",
              "      --bg-color: #E8F0FE;\n",
              "      --fill-color: #1967D2;\n",
              "      --hover-bg-color: #E2EBFA;\n",
              "      --hover-fill-color: #174EA6;\n",
              "      --disabled-fill-color: #AAA;\n",
              "      --disabled-bg-color: #DDD;\n",
              "  }\n",
              "\n",
              "  [theme=dark] .colab-df-quickchart {\n",
              "      --bg-color: #3B4455;\n",
              "      --fill-color: #D2E3FC;\n",
              "      --hover-bg-color: #434B5C;\n",
              "      --hover-fill-color: #FFFFFF;\n",
              "      --disabled-bg-color: #3B4455;\n",
              "      --disabled-fill-color: #666;\n",
              "  }\n",
              "\n",
              "  .colab-df-quickchart {\n",
              "    background-color: var(--bg-color);\n",
              "    border: none;\n",
              "    border-radius: 50%;\n",
              "    cursor: pointer;\n",
              "    display: none;\n",
              "    fill: var(--fill-color);\n",
              "    height: 32px;\n",
              "    padding: 0;\n",
              "    width: 32px;\n",
              "  }\n",
              "\n",
              "  .colab-df-quickchart:hover {\n",
              "    background-color: var(--hover-bg-color);\n",
              "    box-shadow: 0 1px 2px rgba(60, 64, 67, 0.3), 0 1px 3px 1px rgba(60, 64, 67, 0.15);\n",
              "    fill: var(--button-hover-fill-color);\n",
              "  }\n",
              "\n",
              "  .colab-df-quickchart-complete:disabled,\n",
              "  .colab-df-quickchart-complete:disabled:hover {\n",
              "    background-color: var(--disabled-bg-color);\n",
              "    fill: var(--disabled-fill-color);\n",
              "    box-shadow: none;\n",
              "  }\n",
              "\n",
              "  .colab-df-spinner {\n",
              "    border: 2px solid var(--fill-color);\n",
              "    border-color: transparent;\n",
              "    border-bottom-color: var(--fill-color);\n",
              "    animation:\n",
              "      spin 1s steps(1) infinite;\n",
              "  }\n",
              "\n",
              "  @keyframes spin {\n",
              "    0% {\n",
              "      border-color: transparent;\n",
              "      border-bottom-color: var(--fill-color);\n",
              "      border-left-color: var(--fill-color);\n",
              "    }\n",
              "    20% {\n",
              "      border-color: transparent;\n",
              "      border-left-color: var(--fill-color);\n",
              "      border-top-color: var(--fill-color);\n",
              "    }\n",
              "    30% {\n",
              "      border-color: transparent;\n",
              "      border-left-color: var(--fill-color);\n",
              "      border-top-color: var(--fill-color);\n",
              "      border-right-color: var(--fill-color);\n",
              "    }\n",
              "    40% {\n",
              "      border-color: transparent;\n",
              "      border-right-color: var(--fill-color);\n",
              "      border-top-color: var(--fill-color);\n",
              "    }\n",
              "    60% {\n",
              "      border-color: transparent;\n",
              "      border-right-color: var(--fill-color);\n",
              "    }\n",
              "    80% {\n",
              "      border-color: transparent;\n",
              "      border-right-color: var(--fill-color);\n",
              "      border-bottom-color: var(--fill-color);\n",
              "    }\n",
              "    90% {\n",
              "      border-color: transparent;\n",
              "      border-bottom-color: var(--fill-color);\n",
              "    }\n",
              "  }\n",
              "</style>\n",
              "\n",
              "  <script>\n",
              "    async function quickchart(key) {\n",
              "      const quickchartButtonEl =\n",
              "        document.querySelector('#' + key + ' button');\n",
              "      quickchartButtonEl.disabled = true;  // To prevent multiple clicks.\n",
              "      quickchartButtonEl.classList.add('colab-df-spinner');\n",
              "      try {\n",
              "        const charts = await google.colab.kernel.invokeFunction(\n",
              "            'suggestCharts', [key], {});\n",
              "      } catch (error) {\n",
              "        console.error('Error during call to suggestCharts:', error);\n",
              "      }\n",
              "      quickchartButtonEl.classList.remove('colab-df-spinner');\n",
              "      quickchartButtonEl.classList.add('colab-df-quickchart-complete');\n",
              "    }\n",
              "    (() => {\n",
              "      let quickchartButtonEl =\n",
              "        document.querySelector('#df-14a5cca5-54ae-4f47-a86b-eebdfe4e1240 button');\n",
              "      quickchartButtonEl.style.display =\n",
              "        google.colab.kernel.accessAllowed ? 'block' : 'none';\n",
              "    })();\n",
              "  </script>\n",
              "</div>\n",
              "\n",
              "    </div>\n",
              "  </div>\n"
            ],
            "application/vnd.google.colaboratory.intrinsic+json": {
              "type": "dataframe"
            }
          },
          "metadata": {},
          "execution_count": 285
        }
      ],
      "source": [
        "dataset_norm = (data- data.min()) / (data.max() - data.min())\n",
        "dataset_norm.describe()"
      ]
    },
    {
      "cell_type": "code",
      "execution_count": 286,
      "metadata": {
        "colab": {
          "base_uri": "https://localhost:8080/"
        },
        "id": "_1HfQlIuTk9b",
        "outputId": "2a9597a0-3641-4b53-c9f2-f280335f5246"
      },
      "outputs": [
        {
          "output_type": "stream",
          "name": "stdout",
          "text": [
            "(737453, 24)\n"
          ]
        }
      ],
      "source": [
        "\n",
        "print(X.shape)"
      ]
    },
    {
      "cell_type": "markdown",
      "metadata": {
        "id": "J3dc8Nt1UmDb"
      },
      "source": [
        "Calculamos varias veces los clusters que se están formando a partir de los datos con distintos inicios de randomización"
      ]
    },
    {
      "cell_type": "code",
      "execution_count": 287,
      "metadata": {
        "colab": {
          "base_uri": "https://localhost:8080/"
        },
        "id": "g5813nuKTm51",
        "outputId": "460af01a-6c38-44d2-bf7e-a1b285d71759"
      },
      "outputs": [
        {
          "output_type": "stream",
          "name": "stderr",
          "text": [
            "/usr/local/lib/python3.10/dist-packages/sklearn/cluster/_kmeans.py:870: FutureWarning: The default value of `n_init` will change from 10 to 'auto' in 1.4. Set the value of `n_init` explicitly to suppress the warning\n",
            "  warnings.warn(\n"
          ]
        },
        {
          "output_type": "execute_result",
          "data": {
            "text/plain": [
              "array([7, 7, 7, ..., 4, 4, 4], dtype=int32)"
            ]
          },
          "metadata": {},
          "execution_count": 287
        }
      ],
      "source": [
        "from sklearn.cluster import KMeans\n",
        "\n",
        "k = 12\n",
        "kmeans = KMeans(n_clusters=k, random_state=42)\n",
        "y_pred = kmeans.fit_predict(X)\n",
        "y_pred"
      ]
    },
    {
      "cell_type": "code",
      "execution_count": 288,
      "metadata": {
        "colab": {
          "base_uri": "https://localhost:8080/"
        },
        "id": "GMq7kRfxTpAF",
        "outputId": "ddae1450-6d7a-49a3-afd8-83d5fd0453d1"
      },
      "outputs": [
        {
          "output_type": "execute_result",
          "data": {
            "text/plain": [
              "array([[1.49396940e+18, 5.45925284e+01, 1.74197727e+01, 2.48743569e+03,\n",
              "        4.87867366e+02, 4.01786544e+02, 9.75605772e+00, 1.68232733e+00,\n",
              "        2.69097515e+02, 2.69449232e+02, 2.69254340e+02, 2.99745205e+02,\n",
              "        2.99725471e+02, 2.96869749e+02, 2.96742831e+02, 4.78452964e+02,\n",
              "        4.71930284e+02, 4.81691259e+02, 3.66025855e+02, 3.60812621e+02,\n",
              "        3.72138609e+02, 3.61248769e+02, 6.47360511e+01, 3.02955966e+00],\n",
              "       [1.50165540e+18, 5.48130435e+01, 1.55019022e+01, 3.02807884e+03,\n",
              "        5.05589535e+02, 3.91473404e+02, 1.00325376e+01, 1.68731060e+00,\n",
              "        2.91274454e+02, 2.86785995e+02, 2.99719247e+02, 3.02541754e+02,\n",
              "        2.96835625e+02, 3.11542660e+02, 3.11415068e+02, 4.73454900e+02,\n",
              "        5.04099795e+02, 5.01911864e+02, 4.01185165e+02, 3.98590100e+02,\n",
              "        4.01689189e+02, 4.02828875e+02, 6.48912619e+01, 2.46903919e+00],\n",
              "       [1.49904180e+18, 5.31499721e+01, 1.88358380e+01, 3.21997436e+03,\n",
              "        5.16537629e+02, 4.00165809e+02, 9.84627160e+00, 1.67675900e+00,\n",
              "        2.94809093e+02, 2.95646289e+02, 2.95128429e+02, 2.99856092e+02,\n",
              "        2.99665637e+02, 2.97262288e+02, 2.98707481e+02, 4.82321317e+02,\n",
              "        4.82824191e+02, 4.87716286e+02, 4.50627907e+02, 4.60106674e+02,\n",
              "        4.51711031e+02, 4.48400180e+02, 6.52035615e+01, 2.13423184e+00],\n",
              "       [1.49142419e+18, 5.69307712e+01, 1.31799663e+01, 1.90262428e+03,\n",
              "        4.76867201e+02, 3.99054664e+02, 9.50649590e+00, 1.70129316e+00,\n",
              "        2.33967865e+02, 2.33634909e+02, 2.34444078e+02, 2.95244949e+02,\n",
              "        3.06078164e+02, 2.49805002e+02, 2.49849436e+02, 7.33847458e+02,\n",
              "        7.30422726e+02, 7.41414380e+02, 4.26953143e+02, 4.46786014e+02,\n",
              "        4.50454029e+02, 4.40525593e+02, 6.50978837e+01, 2.40954974e+00],\n",
              "       [1.50432840e+18, 5.51313673e+01, 1.54734316e+01, 2.95729048e+03,\n",
              "        5.02589625e+02, 3.90882818e+02, 9.24542118e+00, 1.67799379e+00,\n",
              "        2.96097177e+02, 2.96714104e+02, 2.97435008e+02, 2.98894105e+02,\n",
              "        2.98985900e+02, 3.21623058e+02, 3.02403101e+02, 4.70686543e+02,\n",
              "        5.11572247e+02, 4.64878059e+02, 3.88545409e+02, 3.99543959e+02,\n",
              "        4.28621484e+02, 3.91843523e+02, 6.44369571e+01, 2.66029491e+00],\n",
              "       [1.49649480e+18, 6.40300000e+01, 6.26000000e+00, 2.94733776e+03,\n",
              "        4.50786277e+02, 4.00076240e+02, 9.89563346e+00, 1.64600206e+00,\n",
              "        2.99559217e+02, 2.78798643e+02, 2.99539552e+02, 2.99874028e+02,\n",
              "        2.99845006e+02, 2.99591495e+02, 2.99530341e+02, 5.39232721e+02,\n",
              "        5.36304003e+02, 5.53462760e+02, 4.48944954e+02, 4.55534557e+02,\n",
              "        4.46582458e+02, 4.44854961e+02, 6.57136752e+01, 1.71598291e+00],\n",
              "       [1.50033960e+18, 5.40907163e+01, 1.68035813e+01, 3.56346085e+03,\n",
              "        4.99454883e+02, 4.00650303e+02, 1.01074759e+01, 1.69555570e+00,\n",
              "        2.78375049e+02, 2.77502945e+02, 2.78400948e+02, 2.98954409e+02,\n",
              "        2.98098871e+02, 2.84983753e+02, 2.85534488e+02, 4.91548130e+02,\n",
              "        5.07290634e+02, 4.94546176e+02, 4.60538678e+02, 4.58630439e+02,\n",
              "        4.39105966e+02, 4.44498326e+02, 6.55519301e+01, 1.84485834e+00],\n",
              "       [1.48937406e+18, 5.82675319e+01, 1.15754352e+01, 3.45555318e+03,\n",
              "        4.72876205e+02, 4.00413072e+02, 9.71452978e+00, 1.71582331e+00,\n",
              "        2.50055437e+02, 2.50071900e+02, 2.50055246e+02, 2.95096000e+02,\n",
              "        3.06400000e+02, 2.49990322e+02, 2.49972789e+02, 5.15465283e+02,\n",
              "        5.08172914e+02, 5.09367200e+02, 4.79298575e+02, 4.90848013e+02,\n",
              "        5.07966483e+02, 4.97680469e+02, 6.56568002e+01, 2.44605952e+00],\n",
              "       [1.49269860e+18, 5.39115819e+01, 1.74363277e+01, 1.89340309e+03,\n",
              "        4.94142918e+02, 4.00203780e+02, 9.63617042e+00, 1.69524828e+00,\n",
              "        2.58652801e+02, 2.58953783e+02, 2.58679442e+02, 2.99922801e+02,\n",
              "        2.98561889e+02, 2.63588530e+02, 2.63586594e+02, 6.08474431e+02,\n",
              "        5.97288716e+02, 6.08041779e+02, 3.98564113e+02, 4.12088844e+02,\n",
              "        4.28499799e+02, 4.15203242e+02, 6.46543927e+01, 2.86803672e+00],\n",
              "       [1.49523300e+18, 6.37363429e+01, 6.61948571e+00, 3.12287898e+03,\n",
              "        4.75592349e+02, 4.00845195e+02, 9.82861699e+00, 1.65454795e+00,\n",
              "        2.76682189e+02, 2.70548658e+02, 2.76796664e+02, 2.99930661e+02,\n",
              "        2.99921861e+02, 2.99080710e+02, 2.99845762e+02, 4.75421094e+02,\n",
              "        4.69898277e+02, 4.84559367e+02, 3.69733794e+02, 3.70842681e+02,\n",
              "        3.74953142e+02, 3.68560339e+02, 6.46943000e+01, 2.37752857e+00],\n",
              "       [1.49776200e+18, 5.58792918e+01, 1.51293484e+01, 2.96513704e+03,\n",
              "        5.02600140e+02, 4.00261988e+02, 9.79929918e+00, 1.66061836e+00,\n",
              "        2.94699204e+02, 2.95100412e+02, 2.95812461e+02, 2.99679855e+02,\n",
              "        2.99362016e+02, 2.94790692e+02, 2.95074574e+02, 4.47614522e+02,\n",
              "        4.51042285e+02, 4.70187961e+02, 4.55583594e+02, 4.57566970e+02,\n",
              "        4.66741472e+02, 4.59732720e+02, 6.53028612e+01, 2.04232295e+00],\n",
              "       [1.50298740e+18, 5.26815323e+01, 1.92455376e+01, 3.17937788e+03,\n",
              "        4.62785419e+02, 3.87846256e+02, 9.81957201e+00, 1.68999755e+00,\n",
              "        2.98856664e+02, 2.94442596e+02, 2.97304641e+02, 3.00962743e+02,\n",
              "        2.99525569e+02, 3.08465427e+02, 3.10589765e+02, 5.28134049e+02,\n",
              "        4.95164140e+02, 5.69167861e+02, 4.31978247e+02, 4.29982926e+02,\n",
              "        4.35732207e+02, 4.21989258e+02, 6.50383871e+01, 1.99892473e+00]])"
            ]
          },
          "metadata": {},
          "execution_count": 288
        }
      ],
      "source": [
        "kmeans.cluster_centers_"
      ]
    },
    {
      "cell_type": "code",
      "execution_count": 289,
      "metadata": {
        "colab": {
          "base_uri": "https://localhost:8080/"
        },
        "id": "v5-frl5NTqed",
        "outputId": "f6a655e8-d8e3-47ce-9f94-076d9923f116"
      },
      "outputs": [
        {
          "output_type": "execute_result",
          "data": {
            "text/plain": [
              "array([7, 7, 7, ..., 7, 7, 7], dtype=int32)"
            ]
          },
          "metadata": {},
          "execution_count": 289
        }
      ],
      "source": [
        "kmeans.predict(X_test)"
      ]
    },
    {
      "cell_type": "code",
      "execution_count": 290,
      "metadata": {
        "id": "npXUuO9ZUrNX"
      },
      "outputs": [],
      "source": [
        "import matplotlib.pyplot as plt"
      ]
    },
    {
      "cell_type": "code",
      "execution_count": 291,
      "metadata": {
        "colab": {
          "base_uri": "https://localhost:8080/"
        },
        "id": "MwCBOuIuUtQz",
        "outputId": "cf77efa7-41ea-425c-deed-6c842f37a6d5"
      },
      "outputs": [
        {
          "output_type": "execute_result",
          "data": {
            "text/plain": [
              "array([[1.4939694e+18, 1.5016554e+18, 1.4990418e+18, ..., 1.4952330e+18,\n",
              "        1.4977620e+18, 1.5029874e+18],\n",
              "       [1.4939694e+18, 1.5016554e+18, 1.4990418e+18, ..., 1.4952330e+18,\n",
              "        1.4977620e+18, 1.5029874e+18],\n",
              "       [1.4939694e+18, 1.5016554e+18, 1.4990418e+18, ..., 1.4952330e+18,\n",
              "        1.4977620e+18, 1.5029874e+18],\n",
              "       ...,\n",
              "       [1.4939694e+18, 1.5016554e+18, 1.4990418e+18, ..., 1.4952330e+18,\n",
              "        1.4977620e+18, 1.5029874e+18],\n",
              "       [1.4939694e+18, 1.5016554e+18, 1.4990418e+18, ..., 1.4952330e+18,\n",
              "        1.4977620e+18, 1.5029874e+18],\n",
              "       [1.4939694e+18, 1.5016554e+18, 1.4990418e+18, ..., 1.4952330e+18,\n",
              "        1.4977620e+18, 1.5029874e+18]])"
            ]
          },
          "metadata": {},
          "execution_count": 291
        }
      ],
      "source": [
        "\n",
        "kmeans.transform(X_test)"
      ]
    },
    {
      "cell_type": "code",
      "execution_count": 292,
      "metadata": {
        "id": "BIq5ILCyUusD"
      },
      "outputs": [],
      "source": [
        "kmeans_iter1 = KMeans(n_clusters=12, init=\"random\", n_init=1,\n",
        "                     algorithm=\"full\", max_iter=1, random_state=1)\n",
        "kmeans_iter2 = KMeans(n_clusters=12, init=\"random\", n_init=1,\n",
        "                     algorithm=\"full\", max_iter=2, random_state=1)\n",
        "kmeans_iter3 = KMeans(n_clusters=12, init=\"random\", n_init=1,\n",
        "                     algorithm=\"full\", max_iter=3, random_state=1)"
      ]
    },
    {
      "cell_type": "code",
      "execution_count": 293,
      "metadata": {
        "id": "vvTXAWQuUysb"
      },
      "outputs": [],
      "source": [
        "np.random.seed(42)\n",
        "random_indices = np.random.choice(X.shape[0], size=1000, replace=False)\n",
        "X_selected = X[random_indices]"
      ]
    },
    {
      "cell_type": "code",
      "execution_count": 294,
      "metadata": {
        "colab": {
          "base_uri": "https://localhost:8080/",
          "height": 668
        },
        "id": "2wqtDgO5U1BD",
        "outputId": "f6a624af-8f84-4b23-bc08-a0f8d8b73514"
      },
      "outputs": [
        {
          "output_type": "stream",
          "name": "stderr",
          "text": [
            "/usr/local/lib/python3.10/dist-packages/sklearn/cluster/_kmeans.py:1366: FutureWarning: algorithm='full' is deprecated, it will be removed in 1.3. Using 'lloyd' instead.\n",
            "  warnings.warn(\n",
            "/usr/local/lib/python3.10/dist-packages/sklearn/cluster/_kmeans.py:1366: FutureWarning: algorithm='full' is deprecated, it will be removed in 1.3. Using 'lloyd' instead.\n",
            "  warnings.warn(\n",
            "/usr/local/lib/python3.10/dist-packages/sklearn/cluster/_kmeans.py:1366: FutureWarning: algorithm='full' is deprecated, it will be removed in 1.3. Using 'lloyd' instead.\n",
            "  warnings.warn(\n"
          ]
        },
        {
          "output_type": "display_data",
          "data": {
            "text/plain": [
              "<Figure size 800x600 with 1 Axes>"
            ],
            "image/png": "[encoded data removed]"
          },
          "metadata": {}
        }
      ],
      "source": [
        "kmeans_iter1.fit(X_selected)\n",
        "kmeans_iter2.fit(X_selected)\n",
        "kmeans_iter3.fit(X_selected)\n",
        "\n",
        "# Obtener los centroides de cada modelo\n",
        "centroids_iter1 = kmeans_iter1.cluster_centers_\n",
        "centroids_iter2 = kmeans_iter2.cluster_centers_\n",
        "centroids_iter3 = kmeans_iter3.cluster_centers_\n",
        "\n",
        "# Crear un diagrama de dispersión y graficar los centroides\n",
        "plt.figure(figsize=(8, 6))\n",
        "plt.scatter(X_selected[:, 0], X_selected[:, 1], c='blue', label='Datos seleccionados')\n",
        "plt.scatter(centroids_iter1[:, 0], centroids_iter1[:, 1], marker='x', s=100, c='red', label='Centroides (iteración 1)')\n",
        "plt.scatter(centroids_iter2[:, 0], centroids_iter2[:, 1], marker='x', s=100, c='green', label='Centroides (iteración 2)')\n",
        "plt.scatter(centroids_iter3[:, 0], centroids_iter3[:, 1], marker='x', s=100, c='orange', label='Centroides (iteración 3)')\n",
        "plt.title('Centroides de KMeans con diferentes iteraciones')\n",
        "plt.xlabel('Feature 1')\n",
        "plt.ylabel('Feature 2')\n",
        "plt.legend()\n",
        "plt.grid(True)\n",
        "plt.show()"
      ]
    },
    {
      "cell_type": "code",
      "execution_count": 295,
      "metadata": {
        "colab": {
          "base_uri": "https://localhost:8080/",
          "height": 126
        },
        "id": "sZfHHzQqU3Y0",
        "outputId": "e7e4da77-2fd4-43ed-8091-a451124c7c2b"
      },
      "outputs": [
        {
          "output_type": "stream",
          "name": "stderr",
          "text": [
            "/usr/local/lib/python3.10/dist-packages/sklearn/cluster/_kmeans.py:1366: FutureWarning: algorithm='full' is deprecated, it will be removed in 1.3. Using 'lloyd' instead.\n",
            "  warnings.warn(\n"
          ]
        },
        {
          "output_type": "execute_result",
          "data": {
            "text/plain": [
              "KMeans(algorithm='full', init='random', n_clusters=2, n_init=10,\n",
              "       random_state=11)"
            ],
            "text/html": [
              "<style>#sk-container-id-15 {color: black;background-color: white;}#sk-container-id-15 pre{padding: 0;}#sk-container-id-15 div.sk-toggleable {background-color: white;}#sk-container-id-15 label.sk-toggleable__label {cursor: pointer;display: block;width: 100%;margin-bottom: 0;padding: 0.3em;box-sizing: border-box;text-align: center;}#sk-container-id-15 label.sk-toggleable__label-arrow:before {content: \"▸\";float: left;margin-right: 0.25em;color: #696969;}#sk-container-id-15 label.sk-toggleable__label-arrow:hover:before {color: black;}#sk-container-id-15 div.sk-estimator:hover label.sk-toggleable__label-arrow:before {color: black;}#sk-container-id-15 div.sk-toggleable__content {max-height: 0;max-width: 0;overflow: hidden;text-align: left;background-color: #f0f8ff;}#sk-container-id-15 div.sk-toggleable__content pre {margin: 0.2em;color: black;border-radius: 0.25em;background-color: #f0f8ff;}#sk-container-id-15 input.sk-toggleable__control:checked~div.sk-toggleable__content {max-height: 200px;max-width: 100%;overflow: auto;}#sk-container-id-15 input.sk-toggleable__control:checked~label.sk-toggleable__label-arrow:before {content: \"▾\";}#sk-container-id-15 div.sk-estimator input.sk-toggleable__control:checked~label.sk-toggleable__label {background-color: #d4ebff;}#sk-container-id-15 div.sk-label input.sk-toggleable__control:checked~label.sk-toggleable__label {background-color: #d4ebff;}#sk-container-id-15 input.sk-hidden--visually {border: 0;clip: rect(1px 1px 1px 1px);clip: rect(1px, 1px, 1px, 1px);height: 1px;margin: -1px;overflow: hidden;padding: 0;position: absolute;width: 1px;}#sk-container-id-15 div.sk-estimator {font-family: monospace;background-color: #f0f8ff;border: 1px dotted black;border-radius: 0.25em;box-sizing: border-box;margin-bottom: 0.5em;}#sk-container-id-15 div.sk-estimator:hover {background-color: #d4ebff;}#sk-container-id-15 div.sk-parallel-item::after {content: \"\";width: 100%;border-bottom: 1px solid gray;flex-grow: 1;}#sk-container-id-15 div.sk-label:hover label.sk-toggleable__label {background-color: #d4ebff;}#sk-container-id-15 div.sk-serial::before {content: \"\";position: absolute;border-left: 1px solid gray;box-sizing: border-box;top: 0;bottom: 0;left: 50%;z-index: 0;}#sk-container-id-15 div.sk-serial {display: flex;flex-direction: column;align-items: center;background-color: white;padding-right: 0.2em;padding-left: 0.2em;position: relative;}#sk-container-id-15 div.sk-item {position: relative;z-index: 1;}#sk-container-id-15 div.sk-parallel {display: flex;align-items: stretch;justify-content: center;background-color: white;position: relative;}#sk-container-id-15 div.sk-item::before, #sk-container-id-15 div.sk-parallel-item::before {content: \"\";position: absolute;border-left: 1px solid gray;box-sizing: border-box;top: 0;bottom: 0;left: 50%;z-index: -1;}#sk-container-id-15 div.sk-parallel-item {display: flex;flex-direction: column;z-index: 1;position: relative;background-color: white;}#sk-container-id-15 div.sk-parallel-item:first-child::after {align-self: flex-end;width: 50%;}#sk-container-id-15 div.sk-parallel-item:last-child::after {align-self: flex-start;width: 50%;}#sk-container-id-15 div.sk-parallel-item:only-child::after {width: 0;}#sk-container-id-15 div.sk-dashed-wrapped {border: 1px dashed gray;margin: 0 0.4em 0.5em 0.4em;box-sizing: border-box;padding-bottom: 0.4em;background-color: white;}#sk-container-id-15 div.sk-label label {font-family: monospace;font-weight: bold;display: inline-block;line-height: 1.2em;}#sk-container-id-15 div.sk-label-container {text-align: center;}#sk-container-id-15 div.sk-container {/* jupyter's `normalize.less` sets `[hidden] { display: none; }` but bootstrap.min.css set `[hidden] { display: none !important; }` so we also need the `!important` here to be able to override the default hidden behavior on the sphinx rendered scikit-learn.org. See: https://github.com/scikit-learn/scikit-learn/issues/21755 */display: inline-block !important;position: relative;}#sk-container-id-15 div.sk-text-repr-fallback {display: none;}</style><div id=\"sk-container-id-15\" class=\"sk-top-container\"><div class=\"sk-text-repr-fallback\"><pre>KMeans(algorithm=&#x27;full&#x27;, init=&#x27;random&#x27;, n_clusters=2, n_init=10,\n",
              "       random_state=11)</pre><b>In a Jupyter environment, please rerun this cell to show the HTML representation or trust the notebook. <br />On GitHub, the HTML representation is unable to render, please try loading this page with nbviewer.org.</b></div><div class=\"sk-container\" hidden><div class=\"sk-item\"><div class=\"sk-estimator sk-toggleable\"><input class=\"sk-toggleable__control sk-hidden--visually\" id=\"sk-estimator-id-15\" type=\"checkbox\" checked><label for=\"sk-estimator-id-15\" class=\"sk-toggleable__label sk-toggleable__label-arrow\">KMeans</label><div class=\"sk-toggleable__content\"><pre>KMeans(algorithm=&#x27;full&#x27;, init=&#x27;random&#x27;, n_clusters=2, n_init=10,\n",
              "       random_state=11)</pre></div></div></div></div></div>"
            ]
          },
          "metadata": {},
          "execution_count": 295
        }
      ],
      "source": [
        "kmeans_rnd_10_inits = KMeans(n_clusters=2, init=\"random\", n_init=10,\n",
        "                              algorithm=\"full\", random_state=11)\n",
        "kmeans_rnd_10_inits.fit(X)"
      ]
    },
    {
      "cell_type": "code",
      "execution_count": 296,
      "metadata": {
        "id": "bq4vpY5TU6tU"
      },
      "outputs": [],
      "source": [
        "def plot_clusterer_comparison(model1, model2, X, title1, title2):\n",
        "    plt.figure(figsize=(12, 5))\n",
        "\n",
        "    # Modelo 1\n",
        "    plt.subplot(1, 2, 1)\n",
        "    y_pred1 = model1.fit_predict(X)\n",
        "    plt.scatter(X[:, 0], X[:, 1], c=y_pred1, cmap='viridis')\n",
        "    plt.scatter(model1.cluster_centers_[:, 0], model1.cluster_centers_[:, 1], s=300, c='red', marker='X')\n",
        "    plt.title(title1)\n",
        "    plt.xlabel('Feature 1')\n",
        "    plt.ylabel('Feature 2')\n",
        "\n",
        "    # Modelo 2\n",
        "    plt.subplot(1, 2, 2)\n",
        "    y_pred2 = model2.fit_predict(X)\n",
        "    plt.scatter(X[:, 0], X[:, 1], c=y_pred2, cmap='viridis')\n",
        "    plt.scatter(model2.cluster_centers_[:, 0], model2.cluster_centers_[:, 1], s=300, c='red', marker='X')\n",
        "    plt.title(title2)\n",
        "    plt.xlabel('Feature 1')\n",
        "    plt.ylabel('Feature 2')\n",
        "\n",
        "    plt.tight_layout()"
      ]
    },
    {
      "cell_type": "code",
      "execution_count": 297,
      "metadata": {
        "colab": {
          "base_uri": "https://localhost:8080/",
          "height": 576
        },
        "id": "p6PNPdzOU8l8",
        "outputId": "63bbcede-94cf-43ac-8727-5a1ae4861346"
      },
      "outputs": [
        {
          "output_type": "stream",
          "name": "stderr",
          "text": [
            "/usr/local/lib/python3.10/dist-packages/sklearn/cluster/_kmeans.py:1366: FutureWarning: algorithm='full' is deprecated, it will be removed in 1.3. Using 'lloyd' instead.\n",
            "  warnings.warn(\n",
            "/usr/local/lib/python3.10/dist-packages/sklearn/cluster/_kmeans.py:1366: FutureWarning: algorithm='full' is deprecated, it will be removed in 1.3. Using 'lloyd' instead.\n",
            "  warnings.warn(\n"
          ]
        },
        {
          "output_type": "display_data",
          "data": {
            "text/plain": [
              "<Figure size 1200x500 with 2 Axes>"
            ],
            "image/png": "[encoded data removed]"
          },
          "metadata": {}
        }
      ],
      "source": [
        "\n",
        "kmeans_rnd_init1 = KMeans(n_clusters=12, init=\"random\", n_init=1,\n",
        "                         algorithm=\"full\", random_state=11)\n",
        "kmeans_rnd_init2 = KMeans(n_clusters=12, init=\"random\", n_init=1,\n",
        "                         algorithm=\"full\", random_state=19)\n",
        "\n",
        "plot_clusterer_comparison(kmeans_rnd_init1, kmeans_rnd_init2, X,\n",
        "                          \"Solution 1\", \"Solution 2 (with a different random init)\")\n",
        "\n",
        "plt.show()\n"
      ]
    },
    {
      "cell_type": "code",
      "execution_count": 298,
      "metadata": {
        "colab": {
          "base_uri": "https://localhost:8080/",
          "height": 126
        },
        "id": "RHs3Cx7DU-sQ",
        "outputId": "83751a4a-baa6-4996-9a48-3536c78329cd"
      },
      "outputs": [
        {
          "output_type": "stream",
          "name": "stderr",
          "text": [
            "/usr/local/lib/python3.10/dist-packages/sklearn/cluster/_kmeans.py:1366: FutureWarning: algorithm='full' is deprecated, it will be removed in 1.3. Using 'lloyd' instead.\n",
            "  warnings.warn(\n"
          ]
        },
        {
          "output_type": "execute_result",
          "data": {
            "text/plain": [
              "KMeans(algorithm='full', init='random', n_clusters=12, n_init=10,\n",
              "       random_state=11)"
            ],
            "text/html": [
              "<style>#sk-container-id-16 {color: black;background-color: white;}#sk-container-id-16 pre{padding: 0;}#sk-container-id-16 div.sk-toggleable {background-color: white;}#sk-container-id-16 label.sk-toggleable__label {cursor: pointer;display: block;width: 100%;margin-bottom: 0;padding: 0.3em;box-sizing: border-box;text-align: center;}#sk-container-id-16 label.sk-toggleable__label-arrow:before {content: \"▸\";float: left;margin-right: 0.25em;color: #696969;}#sk-container-id-16 label.sk-toggleable__label-arrow:hover:before {color: black;}#sk-container-id-16 div.sk-estimator:hover label.sk-toggleable__label-arrow:before {color: black;}#sk-container-id-16 div.sk-toggleable__content {max-height: 0;max-width: 0;overflow: hidden;text-align: left;background-color: #f0f8ff;}#sk-container-id-16 div.sk-toggleable__content pre {margin: 0.2em;color: black;border-radius: 0.25em;background-color: #f0f8ff;}#sk-container-id-16 input.sk-toggleable__control:checked~div.sk-toggleable__content {max-height: 200px;max-width: 100%;overflow: auto;}#sk-container-id-16 input.sk-toggleable__control:checked~label.sk-toggleable__label-arrow:before {content: \"▾\";}#sk-container-id-16 div.sk-estimator input.sk-toggleable__control:checked~label.sk-toggleable__label {background-color: #d4ebff;}#sk-container-id-16 div.sk-label input.sk-toggleable__control:checked~label.sk-toggleable__label {background-color: #d4ebff;}#sk-container-id-16 input.sk-hidden--visually {border: 0;clip: rect(1px 1px 1px 1px);clip: rect(1px, 1px, 1px, 1px);height: 1px;margin: -1px;overflow: hidden;padding: 0;position: absolute;width: 1px;}#sk-container-id-16 div.sk-estimator {font-family: monospace;background-color: #f0f8ff;border: 1px dotted black;border-radius: 0.25em;box-sizing: border-box;margin-bottom: 0.5em;}#sk-container-id-16 div.sk-estimator:hover {background-color: #d4ebff;}#sk-container-id-16 div.sk-parallel-item::after {content: \"\";width: 100%;border-bottom: 1px solid gray;flex-grow: 1;}#sk-container-id-16 div.sk-label:hover label.sk-toggleable__label {background-color: #d4ebff;}#sk-container-id-16 div.sk-serial::before {content: \"\";position: absolute;border-left: 1px solid gray;box-sizing: border-box;top: 0;bottom: 0;left: 50%;z-index: 0;}#sk-container-id-16 div.sk-serial {display: flex;flex-direction: column;align-items: center;background-color: white;padding-right: 0.2em;padding-left: 0.2em;position: relative;}#sk-container-id-16 div.sk-item {position: relative;z-index: 1;}#sk-container-id-16 div.sk-parallel {display: flex;align-items: stretch;justify-content: center;background-color: white;position: relative;}#sk-container-id-16 div.sk-item::before, #sk-container-id-16 div.sk-parallel-item::before {content: \"\";position: absolute;border-left: 1px solid gray;box-sizing: border-box;top: 0;bottom: 0;left: 50%;z-index: -1;}#sk-container-id-16 div.sk-parallel-item {display: flex;flex-direction: column;z-index: 1;position: relative;background-color: white;}#sk-container-id-16 div.sk-parallel-item:first-child::after {align-self: flex-end;width: 50%;}#sk-container-id-16 div.sk-parallel-item:last-child::after {align-self: flex-start;width: 50%;}#sk-container-id-16 div.sk-parallel-item:only-child::after {width: 0;}#sk-container-id-16 div.sk-dashed-wrapped {border: 1px dashed gray;margin: 0 0.4em 0.5em 0.4em;box-sizing: border-box;padding-bottom: 0.4em;background-color: white;}#sk-container-id-16 div.sk-label label {font-family: monospace;font-weight: bold;display: inline-block;line-height: 1.2em;}#sk-container-id-16 div.sk-label-container {text-align: center;}#sk-container-id-16 div.sk-container {/* jupyter's `normalize.less` sets `[hidden] { display: none; }` but bootstrap.min.css set `[hidden] { display: none !important; }` so we also need the `!important` here to be able to override the default hidden behavior on the sphinx rendered scikit-learn.org. See: https://github.com/scikit-learn/scikit-learn/issues/21755 */display: inline-block !important;position: relative;}#sk-container-id-16 div.sk-text-repr-fallback {display: none;}</style><div id=\"sk-container-id-16\" class=\"sk-top-container\"><div class=\"sk-text-repr-fallback\"><pre>KMeans(algorithm=&#x27;full&#x27;, init=&#x27;random&#x27;, n_clusters=12, n_init=10,\n",
              "       random_state=11)</pre><b>In a Jupyter environment, please rerun this cell to show the HTML representation or trust the notebook. <br />On GitHub, the HTML representation is unable to render, please try loading this page with nbviewer.org.</b></div><div class=\"sk-container\" hidden><div class=\"sk-item\"><div class=\"sk-estimator sk-toggleable\"><input class=\"sk-toggleable__control sk-hidden--visually\" id=\"sk-estimator-id-16\" type=\"checkbox\" checked><label for=\"sk-estimator-id-16\" class=\"sk-toggleable__label sk-toggleable__label-arrow\">KMeans</label><div class=\"sk-toggleable__content\"><pre>KMeans(algorithm=&#x27;full&#x27;, init=&#x27;random&#x27;, n_clusters=12, n_init=10,\n",
              "       random_state=11)</pre></div></div></div></div></div>"
            ]
          },
          "metadata": {},
          "execution_count": 298
        }
      ],
      "source": [
        "kmeans_rnd_10_inits = KMeans(n_clusters=12, init=\"random\", n_init=10,\n",
        "                              algorithm=\"full\", random_state=11)\n",
        "kmeans_rnd_10_inits.fit(X)"
      ]
    },
    {
      "cell_type": "code",
      "execution_count": 299,
      "metadata": {
        "id": "YbdsdVd6VA9O"
      },
      "outputs": [],
      "source": [
        "def plot_kmeans_multi_init(model, X):\n",
        "    plt.figure(figsize=(8, 6))\n",
        "\n",
        "    # Visualizar los datos\n",
        "    plt.scatter(X[:, 0], X[:, 1], c=model.labels_, cmap='viridis', alpha=0.6)\n",
        "\n",
        "    # Visualizar los centroides\n",
        "    plt.scatter(model.cluster_centers_[:, 0], model.cluster_centers_[:, 1],\n",
        "                marker='x', s=300, c='red', label='Centroids')\n",
        "\n",
        "    plt.title('KMeans with Multiple Random Initializations')\n",
        "    plt.xlabel('Feature 1')\n",
        "    plt.ylabel('Feature 2')\n",
        "    plt.legend()\n",
        "    plt.show()"
      ]
    },
    {
      "cell_type": "code",
      "execution_count": 300,
      "metadata": {
        "colab": {
          "base_uri": "https://localhost:8080/",
          "height": 564
        },
        "id": "NbxwT6XDVC5O",
        "outputId": "4e437d2b-a49c-4b05-9185-aa8d53f590be"
      },
      "outputs": [
        {
          "output_type": "display_data",
          "data": {
            "text/plain": [
              "<Figure size 800x600 with 1 Axes>"
            ],
            "image/png": "[encoded data removed]"
          },
          "metadata": {}
        }
      ],
      "source": [
        "plot_kmeans_multi_init(kmeans_rnd_10_inits, X)"
      ]
    },
    {
      "cell_type": "code",
      "execution_count": 301,
      "metadata": {
        "id": "ZsU_i6gCgJtZ"
      },
      "outputs": [],
      "source": [
        "def load_next_batch(batch_size):\n",
        "    return X[np.random.choice(len(X), batch_size, replace=False)]\n"
      ]
    },
    {
      "cell_type": "code",
      "execution_count": 302,
      "metadata": {
        "colab": {
          "base_uri": "https://localhost:8080/",
          "height": 828
        },
        "id": "UYcDt6HQmwJn",
        "outputId": "d06188a2-2e24-40d1-87d8-6939e24f3b83"
      },
      "outputs": [
        {
          "output_type": "stream",
          "name": "stderr",
          "text": [
            "/usr/local/lib/python3.10/dist-packages/sklearn/cluster/_kmeans.py:1033: ConvergenceWarning: Number of distinct clusters (12) found smaller than n_clusters (13). Possibly due to duplicate points in X.\n",
            "  return self.fit(X, sample_weight=sample_weight).labels_\n",
            "/usr/local/lib/python3.10/dist-packages/sklearn/cluster/_kmeans.py:1033: ConvergenceWarning: Number of distinct clusters (12) found smaller than n_clusters (14). Possibly due to duplicate points in X.\n",
            "  return self.fit(X, sample_weight=sample_weight).labels_\n",
            "/usr/local/lib/python3.10/dist-packages/sklearn/cluster/_kmeans.py:1033: ConvergenceWarning: Number of distinct clusters (12) found smaller than n_clusters (15). Possibly due to duplicate points in X.\n",
            "  return self.fit(X, sample_weight=sample_weight).labels_\n",
            "/usr/local/lib/python3.10/dist-packages/sklearn/cluster/_kmeans.py:1033: ConvergenceWarning: Number of distinct clusters (12) found smaller than n_clusters (16). Possibly due to duplicate points in X.\n",
            "  return self.fit(X, sample_weight=sample_weight).labels_\n",
            "/usr/local/lib/python3.10/dist-packages/sklearn/cluster/_kmeans.py:1033: ConvergenceWarning: Number of distinct clusters (12) found smaller than n_clusters (17). Possibly due to duplicate points in X.\n",
            "  return self.fit(X, sample_weight=sample_weight).labels_\n",
            "/usr/local/lib/python3.10/dist-packages/sklearn/cluster/_kmeans.py:1033: ConvergenceWarning: Number of distinct clusters (12) found smaller than n_clusters (18). Possibly due to duplicate points in X.\n",
            "  return self.fit(X, sample_weight=sample_weight).labels_\n",
            "/usr/local/lib/python3.10/dist-packages/sklearn/cluster/_kmeans.py:1033: ConvergenceWarning: Number of distinct clusters (12) found smaller than n_clusters (19). Possibly due to duplicate points in X.\n",
            "  return self.fit(X, sample_weight=sample_weight).labels_\n"
          ]
        },
        {
          "output_type": "display_data",
          "data": {
            "text/plain": [
              "<Figure size 1000x600 with 1 Axes>"
            ],
            "image/png": "[encoded data removed]"
          },
          "metadata": {}
        }
      ],
      "source": [
        "from sklearn.cluster import KMeans\n",
        "from sklearn.metrics import silhouette_score\n",
        "import matplotlib.pyplot as plt\n",
        "\n",
        "silhouette_scores = []\n",
        "for k in range(2, 20):\n",
        "    kmeans = KMeans(n_clusters=k, n_init=10, random_state=42)\n",
        "    labels = kmeans.fit_predict(data[:2000])\n",
        "    score = silhouette_score(data[:2000], labels)\n",
        "    silhouette_scores.append(score)\n",
        "\n",
        "# Graficar el coeficiente de silueta\n",
        "plt.figure(figsize=(10, 6))\n",
        "plt.plot(range(2, 20), silhouette_scores, marker='o')\n",
        "plt.xlabel('Número de Clusters')\n",
        "plt.ylabel('Coeficiente de Silueta')\n",
        "plt.title('Coeficiente de Silueta para diferentes números de Clusters')\n",
        "plt.show()"
      ]
    },
    {
      "cell_type": "code",
      "execution_count": 303,
      "metadata": {
        "colab": {
          "base_uri": "https://localhost:8080/"
        },
        "id": "v57C3hLho6Za",
        "outputId": "968054bd-5e89-4bf3-9dc4-7a646b42f5e6"
      },
      "outputs": [
        {
          "output_type": "stream",
          "name": "stdout",
          "text": [
            "El mejor valor de K es: 12 con coeficiente de silueta de: 1.0\n"
          ]
        }
      ],
      "source": [
        "max_score_idx = np.argmax(silhouette_scores) + 2\n",
        "max_score = max(silhouette_scores)\n",
        "print(\"El mejor valor de K es:\", max_score_idx, \"con coeficiente de silueta de:\", max_score)"
      ]
    },
    {
      "cell_type": "markdown",
      "metadata": {
        "id": "HA4lyV18in5Q"
      },
      "source": [
        "## **MINIBATCH**"
      ]
    },
    {
      "cell_type": "code",
      "execution_count": 304,
      "metadata": {
        "colab": {
          "base_uri": "https://localhost:8080/"
        },
        "id": "z2glW6OCgPOb",
        "outputId": "f5464e68-6806-4c57-dc98-a86748108542"
      },
      "outputs": [
        {
          "output_type": "stream",
          "name": "stderr",
          "text": [
            "/usr/local/lib/python3.10/dist-packages/sklearn/cluster/_kmeans.py:870: FutureWarning: The default value of `n_init` will change from 3 to 'auto' in 1.4. Set the value of `n_init` explicitly to suppress the warning\n",
            "  warnings.warn(\n",
            "/usr/local/lib/python3.10/dist-packages/sklearn/cluster/_kmeans.py:870: FutureWarning: The default value of `n_init` will change from 3 to 'auto' in 1.4. Set the value of `n_init` explicitly to suppress the warning\n",
            "  warnings.warn(\n",
            "/usr/local/lib/python3.10/dist-packages/sklearn/cluster/_kmeans.py:870: FutureWarning: The default value of `n_init` will change from 3 to 'auto' in 1.4. Set the value of `n_init` explicitly to suppress the warning\n",
            "  warnings.warn(\n",
            "/usr/local/lib/python3.10/dist-packages/sklearn/cluster/_kmeans.py:870: FutureWarning: The default value of `n_init` will change from 3 to 'auto' in 1.4. Set the value of `n_init` explicitly to suppress the warning\n",
            "  warnings.warn(\n",
            "/usr/local/lib/python3.10/dist-packages/sklearn/cluster/_kmeans.py:870: FutureWarning: The default value of `n_init` will change from 3 to 'auto' in 1.4. Set the value of `n_init` explicitly to suppress the warning\n",
            "  warnings.warn(\n",
            "/usr/local/lib/python3.10/dist-packages/sklearn/cluster/_kmeans.py:870: FutureWarning: The default value of `n_init` will change from 3 to 'auto' in 1.4. Set the value of `n_init` explicitly to suppress the warning\n",
            "  warnings.warn(\n",
            "/usr/local/lib/python3.10/dist-packages/sklearn/cluster/_kmeans.py:870: FutureWarning: The default value of `n_init` will change from 3 to 'auto' in 1.4. Set the value of `n_init` explicitly to suppress the warning\n",
            "  warnings.warn(\n",
            "/usr/local/lib/python3.10/dist-packages/sklearn/cluster/_kmeans.py:870: FutureWarning: The default value of `n_init` will change from 3 to 'auto' in 1.4. Set the value of `n_init` explicitly to suppress the warning\n",
            "  warnings.warn(\n",
            "/usr/local/lib/python3.10/dist-packages/sklearn/cluster/_kmeans.py:870: FutureWarning: The default value of `n_init` will change from 3 to 'auto' in 1.4. Set the value of `n_init` explicitly to suppress the warning\n",
            "  warnings.warn(\n",
            "/usr/local/lib/python3.10/dist-packages/sklearn/cluster/_kmeans.py:870: FutureWarning: The default value of `n_init` will change from 3 to 'auto' in 1.4. Set the value of `n_init` explicitly to suppress the warning\n",
            "  warnings.warn(\n"
          ]
        }
      ],
      "source": [
        "from sklearn.cluster import MiniBatchKMeans\n",
        "\n",
        "k = 12  #número de clusters\n",
        "n_init = 10  #el número de inicializaciones\n",
        "n_iterations = 100  #número de iteraciones por inicialización\n",
        "batch_size = 100   # tamaño del lote para las iteraciones\n",
        "init_size = 500  #tamaño del lote inicia\n",
        "evaluate_on_last_n_iters = 10\n",
        "\n",
        "best_kmeans = None\n",
        "\n",
        "for init in range(n_init):\n",
        "    minibatch_kmeans = MiniBatchKMeans(n_clusters=k, init_size=init_size)\n",
        "    X_init = load_next_batch(init_size)\n",
        "    minibatch_kmeans.partial_fit(X_init)\n",
        "\n",
        "    minibatch_kmeans.sum_inertia_ = 0\n",
        "    for iteration in range(n_iterations):\n",
        "        X_batch = load_next_batch(batch_size)\n",
        "        minibatch_kmeans.partial_fit(X_batch)\n",
        "        if iteration >= n_iterations - evaluate_on_last_n_iters:\n",
        "            minibatch_kmeans.sum_inertia_ += minibatch_kmeans.inertia_\n",
        "#minimiza la inercia sobre las muestras de datos\n",
        "    if (best_kmeans is None or\n",
        "        minibatch_kmeans.sum_inertia_ < best_kmeans.sum_inertia_):\n",
        "        best_kmeans = minibatch_kmeans"
      ]
    },
    {
      "cell_type": "code",
      "execution_count": 305,
      "metadata": {
        "colab": {
          "base_uri": "https://localhost:8080/"
        },
        "id": "r1W-_yOpgUd8",
        "outputId": "7c632452-0b61-4c43-c4a9-0dd528f1311e"
      },
      "outputs": [
        {
          "output_type": "stream",
          "name": "stdout",
          "text": [
            "Best Mini-batch KMeans score: -1.0096141223002308e+35\n"
          ]
        }
      ],
      "source": [
        "print(\"Best Mini-batch KMeans score:\", best_kmeans.score(X))"
      ]
    }
  ],
  "metadata": {
    "colab": {
      "provenance": [],
      "authorship_tag": "ABX9TyMRkZ+Q3lU/eV2rC4YNlqD4",
      "include_colab_link": true
    },
    "kernelspec": {
      "display_name": "Python 3",
      "name": "python3"
    },
    "language_info": {
      "name": "python"
    }
  },
  "nbformat": 4,
  "nbformat_minor": 0
}